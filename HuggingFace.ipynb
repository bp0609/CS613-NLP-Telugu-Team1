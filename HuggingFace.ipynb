{
 "cells": [
  {
   "cell_type": "code",
   "execution_count": 1,
   "metadata": {},
   "outputs": [],
   "source": [
    "from huggingface_hub import hf_hub_download"
   ]
  },
  {
   "cell_type": "code",
   "execution_count": 12,
   "metadata": {},
   "outputs": [
    {
     "data": {
      "application/vnd.jupyter.widget-view+json": {
       "model_id": "d29ef06b5ac8478997a521b7cbe32022",
       "version_major": 2,
       "version_minor": 0
      },
      "text/plain": [
       "train-00000-of-00002.parquet:   0%|          | 0.00/118M [00:00<?, ?B/s]"
      ]
     },
     "metadata": {},
     "output_type": "display_data"
    },
    {
     "data": {
      "application/vnd.jupyter.widget-view+json": {
       "model_id": "3c48f2e56baa4adab4206a1a995efbf2",
       "version_major": 2,
       "version_minor": 0
      },
      "text/plain": [
       "train-00001-of-00002.parquet:   0%|          | 0.00/97.5M [00:00<?, ?B/s]"
      ]
     },
     "metadata": {},
     "output_type": "display_data"
    }
   ],
   "source": [
    "repo = \"wikimedia/wikipedia\"\n",
    "sb_folder = \"20231101.te\"\n",
    "filenames = [\"train-00000-of-00002.parquet\", \"train-00001-of-00002.parquet\"]\n",
    "\n",
    "# download all files\n",
    "for filename in filenames:\n",
    "    hf_hub_download(repo_id = repo, repo_type = \"dataset\", subfolder = sb_folder, filename = filename, local_dir = \"wikisource\")"
   ]
  },
  {
   "cell_type": "code",
   "execution_count": 15,
   "metadata": {},
   "outputs": [
    {
     "data": {
      "text/html": [
       "<div>\n",
       "<style scoped>\n",
       "    .dataframe tbody tr th:only-of-type {\n",
       "        vertical-align: middle;\n",
       "    }\n",
       "\n",
       "    .dataframe tbody tr th {\n",
       "        vertical-align: top;\n",
       "    }\n",
       "\n",
       "    .dataframe thead th {\n",
       "        text-align: right;\n",
       "    }\n",
       "</style>\n",
       "<table border=\"1\" class=\"dataframe\">\n",
       "  <thead>\n",
       "    <tr style=\"text-align: right;\">\n",
       "      <th></th>\n",
       "      <th>id</th>\n",
       "      <th>url</th>\n",
       "      <th>title</th>\n",
       "      <th>text</th>\n",
       "    </tr>\n",
       "  </thead>\n",
       "  <tbody>\n",
       "    <tr>\n",
       "      <th>0</th>\n",
       "      <td>1</td>\n",
       "      <td>https://te.wikipedia.org/wiki/%E0%B0%AE%E0%B1%...</td>\n",
       "      <td>మొదటి పేజీ</td>\n",
       "      <td>వికీపీడియాకు స్వాగతం!\\n\\nమార్గదర్శి\\n\\n\\n\\n\\nవ...</td>\n",
       "    </tr>\n",
       "    <tr>\n",
       "      <th>1</th>\n",
       "      <td>786</td>\n",
       "      <td>https://te.wikipedia.org/wiki/%E0%B0%97%E0%B1%...</td>\n",
       "      <td>గుంటూరు జిల్లా</td>\n",
       "      <td>గుంటూరు జిల్లా, ఆంధ్రప్రదేశ్ లోని కోస్తా ప్రాం...</td>\n",
       "    </tr>\n",
       "    <tr>\n",
       "      <th>2</th>\n",
       "      <td>787</td>\n",
       "      <td>https://te.wikipedia.org/wiki/%E0%B0%86%E0%B0%...</td>\n",
       "      <td>ఆంధ్రప్రదేశ్</td>\n",
       "      <td>ఆంధ్రప్రదేశ్ భారతదేశంలోని ఆగ్నేయ తీర ప్రాంతంలో...</td>\n",
       "    </tr>\n",
       "    <tr>\n",
       "      <th>3</th>\n",
       "      <td>788</td>\n",
       "      <td>https://te.wikipedia.org/wiki/%E0%B0%AD%E0%B1%...</td>\n",
       "      <td>భూగోళ శాస్త్రం</td>\n",
       "      <td>భూగోళ శాస్త్రము అంటే భూమికి సంబంధించిన విజ్ఞాన...</td>\n",
       "    </tr>\n",
       "    <tr>\n",
       "      <th>4</th>\n",
       "      <td>790</td>\n",
       "      <td>https://te.wikipedia.org/wiki/%E0%B0%96%E0%B0%...</td>\n",
       "      <td>ఖమ్మం</td>\n",
       "      <td>ఖమ్మం, భారతదేశం లోని తెలంగాణ రాష్ట్రంలోని ఖమ్మ...</td>\n",
       "    </tr>\n",
       "    <tr>\n",
       "      <th>...</th>\n",
       "      <td>...</td>\n",
       "      <td>...</td>\n",
       "      <td>...</td>\n",
       "      <td>...</td>\n",
       "    </tr>\n",
       "    <tr>\n",
       "      <th>43922</th>\n",
       "      <td>390615</td>\n",
       "      <td>https://te.wikipedia.org/wiki/%E0%B0%9C%E0%B1%...</td>\n",
       "      <td>జెరెమీ కోనీ</td>\n",
       "      <td>జెరెమీ వెర్నాన్ కోనీ (జననం 1952, జూన్ 21) న్యూ...</td>\n",
       "    </tr>\n",
       "    <tr>\n",
       "      <th>43923</th>\n",
       "      <td>390618</td>\n",
       "      <td>https://te.wikipedia.org/wiki/%E0%B0%95%E0%B1%...</td>\n",
       "      <td>కెన్ రూథర్‌ఫోర్డ్</td>\n",
       "      <td>కెన్నెత్ రాబర్ట్ రూథర్‌ఫోర్డ్ (జననం 1965, అక్ట...</td>\n",
       "    </tr>\n",
       "    <tr>\n",
       "      <th>43924</th>\n",
       "      <td>390619</td>\n",
       "      <td>https://te.wikipedia.org/wiki/%E0%B0%A1%E0%B1%...</td>\n",
       "      <td>డోనోవన్ పాగన్</td>\n",
       "      <td>డోనోవన్ జోమో పాగన్ (జననం 1982, సెప్టెంబర్ 13 )...</td>\n",
       "    </tr>\n",
       "    <tr>\n",
       "      <th>43925</th>\n",
       "      <td>390620</td>\n",
       "      <td>https://te.wikipedia.org/wiki/%E0%B0%B2%E0%B1%...</td>\n",
       "      <td>లీ జెర్మోన్</td>\n",
       "      <td>లీ కెన్నెత్ జెర్మన్ (జననం 1968, నవంబరు 4) న్యూ...</td>\n",
       "    </tr>\n",
       "    <tr>\n",
       "      <th>43926</th>\n",
       "      <td>390622</td>\n",
       "      <td>https://te.wikipedia.org/wiki/%E0%B0%97%E0%B0%...</td>\n",
       "      <td>గావిన్ లార్సెన్</td>\n",
       "      <td>గావిన్ రోల్ఫ్ లార్సెన్ (జననం 1962, సెప్టెంబరు ...</td>\n",
       "    </tr>\n",
       "  </tbody>\n",
       "</table>\n",
       "<p>87854 rows × 4 columns</p>\n",
       "</div>"
      ],
      "text/plain": [
       "           id                                                url  \\\n",
       "0           1  https://te.wikipedia.org/wiki/%E0%B0%AE%E0%B1%...   \n",
       "1         786  https://te.wikipedia.org/wiki/%E0%B0%97%E0%B1%...   \n",
       "2         787  https://te.wikipedia.org/wiki/%E0%B0%86%E0%B0%...   \n",
       "3         788  https://te.wikipedia.org/wiki/%E0%B0%AD%E0%B1%...   \n",
       "4         790  https://te.wikipedia.org/wiki/%E0%B0%96%E0%B0%...   \n",
       "...       ...                                                ...   \n",
       "43922  390615  https://te.wikipedia.org/wiki/%E0%B0%9C%E0%B1%...   \n",
       "43923  390618  https://te.wikipedia.org/wiki/%E0%B0%95%E0%B1%...   \n",
       "43924  390619  https://te.wikipedia.org/wiki/%E0%B0%A1%E0%B1%...   \n",
       "43925  390620  https://te.wikipedia.org/wiki/%E0%B0%B2%E0%B1%...   \n",
       "43926  390622  https://te.wikipedia.org/wiki/%E0%B0%97%E0%B0%...   \n",
       "\n",
       "                   title                                               text  \n",
       "0             మొదటి పేజీ  వికీపీడియాకు స్వాగతం!\\n\\nమార్గదర్శి\\n\\n\\n\\n\\nవ...  \n",
       "1         గుంటూరు జిల్లా  గుంటూరు జిల్లా, ఆంధ్రప్రదేశ్ లోని కోస్తా ప్రాం...  \n",
       "2           ఆంధ్రప్రదేశ్  ఆంధ్రప్రదేశ్ భారతదేశంలోని ఆగ్నేయ తీర ప్రాంతంలో...  \n",
       "3         భూగోళ శాస్త్రం  భూగోళ శాస్త్రము అంటే భూమికి సంబంధించిన విజ్ఞాన...  \n",
       "4                  ఖమ్మం  ఖమ్మం, భారతదేశం లోని తెలంగాణ రాష్ట్రంలోని ఖమ్మ...  \n",
       "...                  ...                                                ...  \n",
       "43922        జెరెమీ కోనీ  జెరెమీ వెర్నాన్ కోనీ (జననం 1952, జూన్ 21) న్యూ...  \n",
       "43923  కెన్ రూథర్‌ఫోర్డ్  కెన్నెత్ రాబర్ట్ రూథర్‌ఫోర్డ్ (జననం 1965, అక్ట...  \n",
       "43924      డోనోవన్ పాగన్  డోనోవన్ జోమో పాగన్ (జననం 1982, సెప్టెంబర్ 13 )...  \n",
       "43925        లీ జెర్మోన్  లీ కెన్నెత్ జెర్మన్ (జననం 1968, నవంబరు 4) న్యూ...  \n",
       "43926    గావిన్ లార్సెన్  గావిన్ రోల్ఫ్ లార్సెన్ (జననం 1962, సెప్టెంబరు ...  \n",
       "\n",
       "[87854 rows x 4 columns]"
      ]
     },
     "execution_count": 15,
     "metadata": {},
     "output_type": "execute_result"
    }
   ],
   "source": [
    "# read the parquet files\n",
    "\n",
    "import pandas as pd\n",
    "import pyarrow.parquet as pq\n",
    "\n",
    "df = pd.concat([pq.read_table(f\"wikisource/20231101.te/{filename}\").to_pandas() for filename in filenames])\n",
    "\n",
    "df"
   ]
  },
  {
   "cell_type": "code",
   "execution_count": 6,
   "metadata": {},
   "outputs": [
    {
     "data": {
      "application/vnd.jupyter.widget-view+json": {
       "model_id": "c1979a8be4234268b1a274f5f14f1a27",
       "version_major": 2,
       "version_minor": 0
      },
      "text/plain": [
       "train-00000-of-00001.parquet:   0%|          | 0.00/227k [00:00<?, ?B/s]"
      ]
     },
     "metadata": {},
     "output_type": "display_data"
    }
   ],
   "source": [
    "repo = \"bigscience-data/roots_indic-te_mkb\"\n",
    "sb_folder = \"data\"\n",
    "filenames = [\"train-00000-of-00001.parquet\"]\n",
    "\n",
    "for filename in filenames:\n",
    "    hf_hub_download(repo_id = repo, repo_type = \"dataset\", subfolder = sb_folder, filename = filename, local_dir = \"ROOTS_MKB\")"
   ]
  },
  {
   "cell_type": "code",
   "execution_count": 9,
   "metadata": {},
   "outputs": [
    {
     "data": {
      "text/html": [
       "<div>\n",
       "<style scoped>\n",
       "    .dataframe tbody tr th:only-of-type {\n",
       "        vertical-align: middle;\n",
       "    }\n",
       "\n",
       "    .dataframe tbody tr th {\n",
       "        vertical-align: top;\n",
       "    }\n",
       "\n",
       "    .dataframe thead th {\n",
       "        text-align: right;\n",
       "    }\n",
       "</style>\n",
       "<table border=\"1\" class=\"dataframe\">\n",
       "  <thead>\n",
       "    <tr style=\"text-align: right;\">\n",
       "      <th></th>\n",
       "      <th>text</th>\n",
       "    </tr>\n",
       "  </thead>\n",
       "  <tbody>\n",
       "    <tr>\n",
       "      <th>0</th>\n",
       "      <td>ఈ శ్లోకంలో ప్రకాశం జీవితం లో సుఖం, ఆరోగ్యం, సమ...</td>\n",
       "    </tr>\n",
       "    <tr>\n",
       "      <th>1</th>\n",
       "      <td>మేఘా జైన్ రాస్తున్నారు, 92 ఏండ్ల ఒక వృద్ధమహిళ ...</td>\n",
       "    </tr>\n",
       "    <tr>\n",
       "      <th>2</th>\n",
       "      <td>ఈ అందరు భారతీయ లక్ష్ములకు నా ఆదరపూర్వక ప్రణామమ...</td>\n",
       "    </tr>\n",
       "    <tr>\n",
       "      <th>3</th>\n",
       "      <td>ప్రపంచంలో అనేక దేశాల్లో మన సిక్కు సోదరసోదరీమణు...</td>\n",
       "    </tr>\n",
       "    <tr>\n",
       "      <th>4</th>\n",
       "      <td>శ్రీ గురునానక్ దేవ్ గారి గురించి నేను మీకు ఎంత...</td>\n",
       "    </tr>\n",
       "    <tr>\n",
       "      <th>...</th>\n",
       "      <td>...</td>\n",
       "    </tr>\n",
       "    <tr>\n",
       "      <th>1337</th>\n",
       "      <td>చుక్క,చుక్కా కలిస్తేనే సాగరమైనట్లు, చిన్న చిన్...</td>\n",
       "    </tr>\n",
       "    <tr>\n",
       "      <th>1338</th>\n",
       "      <td>భారతదేశానికి వచ్చే నవంబర్ 11వ తేదీ ప్రత్యేకమైన...</td>\n",
       "    </tr>\n",
       "    <tr>\n",
       "      <th>1339</th>\n",
       "      <td>యుధ్ధం సమాప్తమై వందేళ్ళు పూర్తయ్యాయంటే, అప్పుడ...</td>\n",
       "    </tr>\n",
       "    <tr>\n",
       "      <th>1340</th>\n",
       "      <td>దానితో పాటుగా పండుగల వాతావరణం కూడా వచ్చేసింది....</td>\n",
       "    </tr>\n",
       "    <tr>\n",
       "      <th>1341</th>\n",
       "      <td>ఒక mission mode తో మీరు జీవితంలో ముందుకు నడవడా...</td>\n",
       "    </tr>\n",
       "  </tbody>\n",
       "</table>\n",
       "<p>1342 rows × 1 columns</p>\n",
       "</div>"
      ],
      "text/plain": [
       "                                                   text\n",
       "0     ఈ శ్లోకంలో ప్రకాశం జీవితం లో సుఖం, ఆరోగ్యం, సమ...\n",
       "1     మేఘా జైన్ రాస్తున్నారు, 92 ఏండ్ల ఒక వృద్ధమహిళ ...\n",
       "2     ఈ అందరు భారతీయ లక్ష్ములకు నా ఆదరపూర్వక ప్రణామమ...\n",
       "3     ప్రపంచంలో అనేక దేశాల్లో మన సిక్కు సోదరసోదరీమణు...\n",
       "4     శ్రీ గురునానక్ దేవ్ గారి గురించి నేను మీకు ఎంత...\n",
       "...                                                 ...\n",
       "1337  చుక్క,చుక్కా కలిస్తేనే సాగరమైనట్లు, చిన్న చిన్...\n",
       "1338  భారతదేశానికి వచ్చే నవంబర్ 11వ తేదీ ప్రత్యేకమైన...\n",
       "1339  యుధ్ధం సమాప్తమై వందేళ్ళు పూర్తయ్యాయంటే, అప్పుడ...\n",
       "1340  దానితో పాటుగా పండుగల వాతావరణం కూడా వచ్చేసింది....\n",
       "1341  ఒక mission mode తో మీరు జీవితంలో ముందుకు నడవడా...\n",
       "\n",
       "[1342 rows x 1 columns]"
      ]
     },
     "execution_count": 9,
     "metadata": {},
     "output_type": "execute_result"
    }
   ],
   "source": [
    "import pandas as pd\n",
    "import pyarrow.parquet as pq\n",
    "\n",
    "df = pd.concat([pq.read_table(f\"ROOTS_MKB/data/{filename}\").to_pandas() for filename in filenames])\n",
    "df"
   ]
  },
  {
   "cell_type": "code",
   "execution_count": 10,
   "metadata": {},
   "outputs": [],
   "source": [
    "df.to_csv(\"ROOTS_MKB.csv\", index=False)"
   ]
  }
 ],
 "metadata": {
  "kernelspec": {
   "display_name": "base",
   "language": "python",
   "name": "python3"
  },
  "language_info": {
   "codemirror_mode": {
    "name": "ipython",
    "version": 3
   },
   "file_extension": ".py",
   "mimetype": "text/x-python",
   "name": "python",
   "nbconvert_exporter": "python",
   "pygments_lexer": "ipython3",
   "version": "3.9.16"
  }
 },
 "nbformat": 4,
 "nbformat_minor": 2
}
