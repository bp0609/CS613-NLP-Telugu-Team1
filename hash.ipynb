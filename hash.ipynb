{
 "cells": [
  {
   "cell_type": "code",
   "execution_count": 12,
   "metadata": {},
   "outputs": [],
   "source": [
    "from datasketch import MinHash, MinHashLSH\n",
    "import pandas as pd\n",
    "import re\n",
    "import csv"
   ]
  },
  {
   "cell_type": "code",
   "execution_count": 9,
   "metadata": {},
   "outputs": [
    {
     "data": {
      "text/html": [
       "<div>\n",
       "<style scoped>\n",
       "    .dataframe tbody tr th:only-of-type {\n",
       "        vertical-align: middle;\n",
       "    }\n",
       "\n",
       "    .dataframe tbody tr th {\n",
       "        vertical-align: top;\n",
       "    }\n",
       "\n",
       "    .dataframe thead th {\n",
       "        text-align: right;\n",
       "    }\n",
       "</style>\n",
       "<table border=\"1\" class=\"dataframe\">\n",
       "  <thead>\n",
       "    <tr style=\"text-align: right;\">\n",
       "      <th></th>\n",
       "      <th>filepath</th>\n",
       "    </tr>\n",
       "  </thead>\n",
       "  <tbody>\n",
       "    <tr>\n",
       "      <th>0</th>\n",
       "      <td>../TeluguData/TeluguPost/11303.txt</td>\n",
       "    </tr>\n",
       "    <tr>\n",
       "      <th>1</th>\n",
       "      <td>../TeluguData/TeluguPost/3644.txt</td>\n",
       "    </tr>\n",
       "    <tr>\n",
       "      <th>2</th>\n",
       "      <td>../TeluguData/TeluguPost/19987.txt</td>\n",
       "    </tr>\n",
       "    <tr>\n",
       "      <th>3</th>\n",
       "      <td>../TeluguData/TeluguPost/18441.txt</td>\n",
       "    </tr>\n",
       "    <tr>\n",
       "      <th>4</th>\n",
       "      <td>../TeluguData/TeluguPost/5235.txt</td>\n",
       "    </tr>\n",
       "    <tr>\n",
       "      <th>...</th>\n",
       "      <td>...</td>\n",
       "    </tr>\n",
       "    <tr>\n",
       "      <th>490828</th>\n",
       "      <td>../TeluguData/TeluguStop/40633.txt</td>\n",
       "    </tr>\n",
       "    <tr>\n",
       "      <th>490829</th>\n",
       "      <td>../TeluguData/TeluguStop/94304.txt</td>\n",
       "    </tr>\n",
       "    <tr>\n",
       "      <th>490830</th>\n",
       "      <td>../TeluguData/TeluguStop/102448.txt</td>\n",
       "    </tr>\n",
       "    <tr>\n",
       "      <th>490831</th>\n",
       "      <td>../TeluguData/TeluguStop/29685.txt</td>\n",
       "    </tr>\n",
       "    <tr>\n",
       "      <th>490832</th>\n",
       "      <td>../TeluguData/TeluguStop/38950.txt</td>\n",
       "    </tr>\n",
       "  </tbody>\n",
       "</table>\n",
       "<p>490833 rows × 1 columns</p>\n",
       "</div>"
      ],
      "text/plain": [
       "                                   filepath\n",
       "0        ../TeluguData/TeluguPost/11303.txt\n",
       "1         ../TeluguData/TeluguPost/3644.txt\n",
       "2        ../TeluguData/TeluguPost/19987.txt\n",
       "3        ../TeluguData/TeluguPost/18441.txt\n",
       "4         ../TeluguData/TeluguPost/5235.txt\n",
       "...                                     ...\n",
       "490828   ../TeluguData/TeluguStop/40633.txt\n",
       "490829   ../TeluguData/TeluguStop/94304.txt\n",
       "490830  ../TeluguData/TeluguStop/102448.txt\n",
       "490831   ../TeluguData/TeluguStop/29685.txt\n",
       "490832   ../TeluguData/TeluguStop/38950.txt\n",
       "\n",
       "[490833 rows x 1 columns]"
      ]
     },
     "execution_count": 9,
     "metadata": {},
     "output_type": "execute_result"
    }
   ],
   "source": [
    "df = pd.read_csv('../TeluguData/simhashes.csv')\n",
    "df"
   ]
  },
  {
   "cell_type": "code",
   "execution_count": 10,
   "metadata": {},
   "outputs": [],
   "source": [
    "def get_features(s):\n",
    "    \"\"\"Extract 3-character shingles from the string.\"\"\"\n",
    "    width = 3\n",
    "    s = s.lower()\n",
    "    s = re.sub(r'[^\\w]+', '', s)\n",
    "    return [s[i:i + width] for i in range(max(len(s) - width + 1, 1))]\n",
    "\n",
    "def get_minhash(content, num_perm=128):\n",
    "    \"\"\"Convert features derived from content to a MinHash object for LSH comparison.\"\"\"\n",
    "    minhash = MinHash(num_perm=num_perm)\n",
    "    features = get_features(content)\n",
    "    for feature in features:\n",
    "        minhash.update(feature.encode('utf-8'))\n",
    "    return minhash"
   ]
  },
  {
   "cell_type": "code",
   "execution_count": 11,
   "metadata": {},
   "outputs": [],
   "source": [
    "lsh = MinHashLSH(threshold=0.8, num_perm=128)"
   ]
  },
  {
   "cell_type": "code",
   "execution_count": 14,
   "metadata": {},
   "outputs": [
    {
     "name": "stdout",
     "output_type": "stream",
     "text": [
      "minhash: <datasketch.minhash.MinHash object at 0x1676f51c0>\n"
     ]
    }
   ],
   "source": [
    "file = df[\"filepath\"][0]\n",
    "with open(file, mode='r', encoding='utf-8') as file:\n",
    "    content = file.read()\n",
    "\n",
    "minhash = get_minhash(content)\n",
    "print(f\"minhash: {minhash}\")"
   ]
  },
  {
   "cell_type": "code",
   "execution_count": 15,
   "metadata": {},
   "outputs": [
    {
     "name": "stdout",
     "output_type": "stream",
     "text": [
      "[]\n"
     ]
    }
   ],
   "source": [
    "print(lsh.query(minhash))"
   ]
  },
  {
   "cell_type": "code",
   "execution_count": 16,
   "metadata": {},
   "outputs": [],
   "source": [
    "lsh.insert(file, minhash)"
   ]
  },
  {
   "cell_type": "code",
   "execution_count": 17,
   "metadata": {},
   "outputs": [
    {
     "name": "stdout",
     "output_type": "stream",
     "text": [
      "minhash: <datasketch.minhash.MinHash object at 0x16785a0a0>\n"
     ]
    }
   ],
   "source": [
    "file = df[\"filepath\"][1]\n",
    "with open(file, mode='r', encoding='utf-8') as file:\n",
    "    content = file.read()\n",
    "\n",
    "minhash = get_minhash(content)\n",
    "print(f\"minhash: {minhash}\")"
   ]
  },
  {
   "cell_type": "code",
   "execution_count": 18,
   "metadata": {},
   "outputs": [
    {
     "name": "stdout",
     "output_type": "stream",
     "text": [
      "[]\n"
     ]
    }
   ],
   "source": [
    "print(lsh.query(minhash))"
   ]
  }
 ],
 "metadata": {
  "kernelspec": {
   "display_name": "base",
   "language": "python",
   "name": "python3"
  },
  "language_info": {
   "codemirror_mode": {
    "name": "ipython",
    "version": 3
   },
   "file_extension": ".py",
   "mimetype": "text/x-python",
   "name": "python",
   "nbconvert_exporter": "python",
   "pygments_lexer": "ipython3",
   "version": "3.9.16"
  }
 },
 "nbformat": 4,
 "nbformat_minor": 2
}
