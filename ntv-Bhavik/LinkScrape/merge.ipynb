{
 "cells": [
  {
   "cell_type": "code",
   "execution_count": 1,
   "metadata": {},
   "outputs": [],
   "source": [
    "import pandas as pd\n",
    "import numpy as np\n",
    "import os"
   ]
  },
  {
   "cell_type": "code",
   "execution_count": 2,
   "metadata": {},
   "outputs": [
    {
     "data": {
      "text/plain": [
       "['ap.csv',\n",
       " 'bhakti.csv',\n",
       " 'business.csv',\n",
       " 'cinema-news.csv',\n",
       " 'crime.csv',\n",
       " 'international.csv',\n",
       " 'life-style.csv',\n",
       " 'national.csv',\n",
       " 'sports.csv',\n",
       " 'telangana-news.csv']"
      ]
     },
     "execution_count": 2,
     "metadata": {},
     "output_type": "execute_result"
    }
   ],
   "source": [
    "# Load all csv files in the current directory\n",
    "csv_files = [f for f in os.listdir() if f.endswith('.csv')]\n",
    "csv_files"
   ]
  },
  {
   "cell_type": "code",
   "execution_count": 12,
   "metadata": {},
   "outputs": [
    {
     "name": "stdout",
     "output_type": "stream",
     "text": [
      "441\n",
      "Loaded ap.csv\n",
      "17\n",
      "Loaded bhakti.csv\n",
      "71\n",
      "Loaded business.csv\n",
      "691\n",
      "Loaded cinema-news.csv\n",
      "71\n",
      "Loaded crime.csv\n",
      "231\n",
      "Loaded international.csv\n",
      "49\n",
      "Loaded life-style.csv\n",
      "722\n",
      "Loaded national.csv\n",
      "281\n",
      "Loaded sports.csv\n",
      "491\n",
      "Loaded telangana-news.csv\n"
     ]
    }
   ],
   "source": [
    "# Create a single list containing all the links from the csv files\n",
    "links = []\n",
    "for file in csv_files:\n",
    "    df = pd.read_csv(file)\n",
    "    print(len(df['link'].tolist()[2:]))\n",
    "    links.extend(df['link'].tolist()[2:])\n",
    "    print(f'Loaded {file}')"
   ]
  },
  {
   "cell_type": "code",
   "execution_count": 17,
   "metadata": {},
   "outputs": [
    {
     "data": {
      "text/plain": [
       "3065"
      ]
     },
     "execution_count": 17,
     "metadata": {},
     "output_type": "execute_result"
    }
   ],
   "source": [
    "len(links)"
   ]
  },
  {
   "cell_type": "code",
   "execution_count": 18,
   "metadata": {},
   "outputs": [
    {
     "data": {
      "text/plain": [
       "2799"
      ]
     },
     "execution_count": 18,
     "metadata": {},
     "output_type": "execute_result"
    }
   ],
   "source": [
    "links = list(set(links))\n",
    "len(links)"
   ]
  },
  {
   "cell_type": "code",
   "execution_count": 19,
   "metadata": {},
   "outputs": [
    {
     "name": "stdout",
     "output_type": "stream",
     "text": [
      "Saved links.csv\n"
     ]
    }
   ],
   "source": [
    "# Write the links to a csv file\n",
    "df = pd.DataFrame({'link': links})\n",
    "df.to_csv('links.csv', index=False)\n",
    "print('Saved links.csv')"
   ]
  },
  {
   "cell_type": "code",
   "execution_count": null,
   "metadata": {},
   "outputs": [],
   "source": []
  }
 ],
 "metadata": {
  "kernelspec": {
   "display_name": "Python 3",
   "language": "python",
   "name": "python3"
  },
  "language_info": {
   "codemirror_mode": {
    "name": "ipython",
    "version": 3
   },
   "file_extension": ".py",
   "mimetype": "text/x-python",
   "name": "python",
   "nbconvert_exporter": "python",
   "pygments_lexer": "ipython3",
   "version": "3.12.7"
  }
 },
 "nbformat": 4,
 "nbformat_minor": 2
}
