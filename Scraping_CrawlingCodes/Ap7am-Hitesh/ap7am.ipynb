{
 "cells": [
  {
   "cell_type": "code",
   "execution_count": 1,
   "metadata": {},
   "outputs": [],
   "source": [
    "from selenium import webdriver\n",
    "from selenium.webdriver.common.by import By\n",
    "from selenium.webdriver.chrome.options import Options\n",
    "from selenium.webdriver.chrome.service import Service\n",
    "from webdriver_manager.chrome import ChromeDriverManager\n",
    "import pandas as pd"
   ]
  },
  {
   "cell_type": "code",
   "execution_count": 5,
   "metadata": {},
   "outputs": [],
   "source": [
    "url = \"https://www.ap7am.com/telugu-news/all?page=1\""
   ]
  },
  {
   "cell_type": "markdown",
   "metadata": {},
   "source": [
    "## Extraction of Links"
   ]
  },
  {
   "cell_type": "markdown",
   "metadata": {},
   "source": [
    "### Setting Up the Driver"
   ]
  },
  {
   "cell_type": "code",
   "execution_count": 6,
   "metadata": {},
   "outputs": [],
   "source": [
    "try:\n",
    "    driver = webdriver.Chrome(service=Service(ChromeDriverManager().install()), options=Options())\n",
    "except:\n",
    "    chrome_options = Options()\n",
    "    chrome_options.add_argument(\"--headless\")\n",
    "    chrome_options.add_argument(\"--no-sandbox\")\n",
    "    chrome_options.add_argument(\"--disable-dev-shm-usage\")\n",
    "    driver = webdriver.Chrome(options=chrome_options)\n",
    "    print(\"Running in headless mode.\")"
   ]
  },
  {
   "cell_type": "code",
   "execution_count": 51,
   "metadata": {},
   "outputs": [],
   "source": [
    "driver.get(url)"
   ]
  },
  {
   "cell_type": "code",
   "execution_count": 52,
   "metadata": {},
   "outputs": [],
   "source": [
    "links = []"
   ]
  },
  {
   "cell_type": "markdown",
   "metadata": {},
   "source": [
    "### Link Extraction"
   ]
  },
  {
   "cell_type": "code",
   "execution_count": null,
   "metadata": {},
   "outputs": [],
   "source": [
    "while True:\n",
    "    div = driver.find_elements(By.TAG_NAME, \"main\")\n",
    "    try:\n",
    "        link_list = div[0].find_elements(By.TAG_NAME, \"ul\")\n",
    "    except:\n",
    "        break\n",
    "    for i in link_list:\n",
    "        link = i.find_elements(By.TAG_NAME, \"a\")\n",
    "        links.append(link[0].get_attribute(\"href\"))\n",
    "    next_button = driver.find_elements(By.CLASS_NAME, \"button\")\n",
    "    if(len(next_button) == 3):\n",
    "        next_button[2].click()\n",
    "    else:\n",
    "        break"
   ]
  },
  {
   "cell_type": "code",
   "execution_count": 61,
   "metadata": {},
   "outputs": [],
   "source": [
    "driver.close()"
   ]
  },
  {
   "cell_type": "code",
   "execution_count": 54,
   "metadata": {},
   "outputs": [],
   "source": [
    "df = pd.DataFrame(links, columns=[\"url\"])"
   ]
  },
  {
   "cell_type": "code",
   "execution_count": 55,
   "metadata": {},
   "outputs": [],
   "source": [
    "for i in range(len(links)):\n",
    "    df.loc[len(df)] = links[i]"
   ]
  },
  {
   "cell_type": "code",
   "execution_count": 56,
   "metadata": {},
   "outputs": [
    {
     "data": {
      "text/html": [
       "<div>\n",
       "<style scoped>\n",
       "    .dataframe tbody tr th:only-of-type {\n",
       "        vertical-align: middle;\n",
       "    }\n",
       "\n",
       "    .dataframe tbody tr th {\n",
       "        vertical-align: top;\n",
       "    }\n",
       "\n",
       "    .dataframe thead th {\n",
       "        text-align: right;\n",
       "    }\n",
       "</style>\n",
       "<table border=\"1\" class=\"dataframe\">\n",
       "  <thead>\n",
       "    <tr style=\"text-align: right;\">\n",
       "      <th></th>\n",
       "      <th>url</th>\n",
       "    </tr>\n",
       "  </thead>\n",
       "  <tbody>\n",
       "    <tr>\n",
       "      <th>0</th>\n",
       "      <td>https://www.ap7am.com/tn/810224/brs-mla-malla-...</td>\n",
       "    </tr>\n",
       "    <tr>\n",
       "      <th>1</th>\n",
       "      <td>https://www.ap7am.com/tn/810123/traffic-divers...</td>\n",
       "    </tr>\n",
       "    <tr>\n",
       "      <th>2</th>\n",
       "      <td>https://www.ap7am.com/movie-review/546/bhargav...</td>\n",
       "    </tr>\n",
       "    <tr>\n",
       "      <th>3</th>\n",
       "      <td>https://www.ap7am.com/tn/809913/pawan-kalyan-i...</td>\n",
       "    </tr>\n",
       "    <tr>\n",
       "      <th>4</th>\n",
       "      <td>https://www.ap7am.com/tn/809810/palla-srinivas...</td>\n",
       "    </tr>\n",
       "  </tbody>\n",
       "</table>\n",
       "</div>"
      ],
      "text/plain": [
       "                                                 url\n",
       "0  https://www.ap7am.com/tn/810224/brs-mla-malla-...\n",
       "1  https://www.ap7am.com/tn/810123/traffic-divers...\n",
       "2  https://www.ap7am.com/movie-review/546/bhargav...\n",
       "3  https://www.ap7am.com/tn/809913/pawan-kalyan-i...\n",
       "4  https://www.ap7am.com/tn/809810/palla-srinivas..."
      ]
     },
     "execution_count": 56,
     "metadata": {},
     "output_type": "execute_result"
    }
   ],
   "source": [
    "df.head()"
   ]
  },
  {
   "cell_type": "code",
   "execution_count": 57,
   "metadata": {},
   "outputs": [
    {
     "data": {
      "text/plain": [
       "1376"
      ]
     },
     "execution_count": 57,
     "metadata": {},
     "output_type": "execute_result"
    }
   ],
   "source": [
    "len(df)"
   ]
  },
  {
   "cell_type": "code",
   "execution_count": 58,
   "metadata": {},
   "outputs": [],
   "source": [
    "df.to_csv(\"./Links/ap7am.csv\", index=False)"
   ]
  },
  {
   "cell_type": "markdown",
   "metadata": {},
   "source": [
    "## Extracting the Text Data from the Saved Links"
   ]
  },
  {
   "cell_type": "code",
   "execution_count": 59,
   "metadata": {},
   "outputs": [],
   "source": [
    "links = pd.read_csv(\"./Links/ap7am.csv\")[\"url\"].tolist()"
   ]
  },
  {
   "cell_type": "code",
   "execution_count": 60,
   "metadata": {},
   "outputs": [
    {
     "data": {
      "text/plain": [
       "1376"
      ]
     },
     "execution_count": 60,
     "metadata": {},
     "output_type": "execute_result"
    }
   ],
   "source": [
    "len(links)"
   ]
  },
  {
   "cell_type": "markdown",
   "metadata": {},
   "source": [
    "### Getting the Driver Ready"
   ]
  },
  {
   "cell_type": "code",
   "execution_count": 62,
   "metadata": {},
   "outputs": [],
   "source": [
    "try:\n",
    "    driver = webdriver.Chrome(service=Service(ChromeDriverManager().install()), options=Options())\n",
    "except:\n",
    "    chrome_options = Options()\n",
    "    chrome_options.add_argument(\"--headless\")\n",
    "    chrome_options.add_argument(\"--no-sandbox\")\n",
    "    chrome_options.add_argument(\"--disable-dev-shm-usage\")\n",
    "    driver = webdriver.Chrome(options=chrome_options)\n",
    "    print(\"Running in headless mode.\")"
   ]
  },
  {
   "cell_type": "markdown",
   "metadata": {},
   "source": [
    "### Creating the Folder"
   ]
  },
  {
   "cell_type": "code",
   "execution_count": 65,
   "metadata": {},
   "outputs": [],
   "source": [
    "import os\n",
    "if not os.path.exists(\"./Texts/ap7am\"):\n",
    "    os.makedirs(\"./Texts/ap7am\")"
   ]
  },
  {
   "cell_type": "markdown",
   "metadata": {},
   "source": [
    "### Creating a File for each Article and Storing the Text in the File"
   ]
  },
  {
   "cell_type": "code",
   "execution_count": 67,
   "metadata": {},
   "outputs": [
    {
     "name": "stdout",
     "output_type": "stream",
     "text": [
      "Could not open the link: https://www.ap7am.com/tn/748783/jharkhand-boat-tragedy-deceased-8-people-belongs-to-one-family\n",
      "Could not open the link: https://www.ap7am.com/tn/748683/bjp-ap-chief-somu-veerraju-comments-on-hindu-temples-funds-misuse\n",
      "Could not open the link: https://www.ap7am.com/tn/748583/struggle-in-parliament-against-central-governments-crooked-attempts-cm-kcr-to-give-directions-to-party-mps\n",
      "Could not open the link: https://www.ap7am.com/tn/748482/congress-fires-on-uddhav-thackerays-decision-on-draupadi-murmu\n",
      "Could not open the link: https://www.ap7am.com/tn/748379/this-is-the-best-performance-of-jaspreet-bumra-in-his-odi-career\n",
      "Could not open the link: https://www.ap7am.com/tn/748278/telangana-covid-report\n",
      "Could not open the link: https://www.ap7am.com/tn/748178/tvs-introduced-retro-bike-ronin\n",
      "Could not open the link: https://www.ap7am.com/tn/748078/dharmana-prasada-rao-praises-jagan\n",
      "Could not open the link: https://www.ap7am.com/tn/747978/ys-jagan-leisure-mode-in-ysr-park-in-vempalle-of-kadapa-district\n",
      "Could not open the link: https://www.ap7am.com/tn/747876/jagan-going-to-kadapa-district-for-two-days\n",
      "Could not open the link: https://www.ap7am.com/tn/747774/house-committee-on-pegasus-starts-its-enquiry\n",
      "Could not open the link: https://www.ap7am.com/tn/747673/it-is-every-indian-responsibility-to-remember-alluri-says-ktr\n",
      "Could not open the link: https://www.ap7am.com/tn/747574/bjp-national-plenary-first-day-meetings-concluded\n",
      "Could not open the link: https://www.ap7am.com/tn/747472/nadendla-manohar-press-meet-in-vijayawada\n",
      "Could not open the link: https://www.ap7am.com/tn/747370/4-bjp-ghmc-corporators-and-tandur-minicipality-bjp-floor-leader-swift-to-trs\n",
      "Could not open the link: https://www.ap7am.com/tn/747268/mns-spuuorts-bjp-and-eknath-shinde-alliance\n",
      "Could not open the link: https://www.ap7am.com/tn/747165/budda-venkanna-fires-on-ycp-govt-and-kodali-nani\n",
      "Could not open the link: https://www.ap7am.com/tn/747065/priyanka-jawalkar-response-on-news-on-her-love-with-venkatesh-iyer\n",
      "Could not open the link: https://www.ap7am.com/tn/746963/ktr-announces-that-kcr-will-inaugurate-t-hub-hyderabad-on-28th-of-this-month\n",
      "Could not open the link: https://www.ap7am.com/tn/746863/india-reports-15940-fresh-cases-and-20-deaths-in-the-last-24-hours\n",
      "Could not open the link: https://www.ap7am.com/tn/746759/retired-ias-officer-deva-vara-prasad-joined-janasena\n",
      "Could not open the link: https://www.ap7am.com/tn/746657/vishnavtej-movie-update\n",
      "Could not open the link: https://www.ap7am.com/tn/746551/biggest-cruise-ship-goes-to-scrapyard\n",
      "Could not open the link: https://www.ap7am.com/tn/746449/ap-tdp-president-atchannaidu-condemns-narendras-arrest\n",
      "Could not open the link: https://www.ap7am.com/tn/746348/chiranjeevi-movies-update\n",
      "Could not open the link: https://www.ap7am.com/tn/746247/from-one-rank-one-pension-to-proposed-no-rank-no-pension-says-ktr-on-agnipath-scheme\n",
      "Could not open the link: https://www.ap7am.com/tn/746146/ab-venkateswara-rao-appointed-as-printing-and-stationery-commissioner\n",
      "Could not open the link: https://www.ap7am.com/tn/746041/chiranjeeevi-inspirational-message-on-world-blood-donors-day\n",
      "Could not open the link: https://www.ap7am.com/tn/745937/no-wicket-taking-bowlers-sunil-gavaskar-assessment-of-indian-bowling-attack-against-south-africa\n",
      "Could not open the link: https://www.ap7am.com/tn/745834/chevella-mp-tanjith-reddy-ready-to-give-1-crore-rupees-to-government-hospital\n",
      "Could not open the link: https://www.ap7am.com/tn/745727/somu-veerraju-comments-on-ambati\n",
      "Could not open the link: https://www.ap7am.com/tn/745622/86-percent-indian-employees-are-ready-to-resign\n",
      "Could not open the link: https://www.ap7am.com/tn/745515/pm-modi-meets-ghmc-corporators-in-delhi\n",
      "Could not open the link: https://www.ap7am.com/tn/745409/ayyanna-counter-tweet-to-rambabu\n",
      "Could not open the link: https://www.ap7am.com/tn/745305/ttd-to-issue-daily-1000-tickets-to-devotees-who-came-from-tsrtc\n",
      "Could not open the link: https://www.ap7am.com/tn/745202/r-krishnaiah-respond-on-the-case-which-was-filed-on-him\n",
      "Could not open the link: https://www.ap7am.com/tn/745098/bsp-convenor-r-s-praveen-kumar-fires-on-kcr-government-over-telangana-ads-in-kannada-papers\n",
      "Could not open the link: https://www.ap7am.com/tn/744995/prabhas-in-lokesh-kanagaraj-movie\n",
      "Could not open the link: https://www.ap7am.com/tn/744891/telangana-police-arrested-two-software-engineers-for-transport-drugs\n",
      "Could not open the link: https://www.ap7am.com/tn/744789/bhatti-appointed-as-congress-chintan-shibir-committee-chairman\n",
      "Could not open the link: https://www.ap7am.com/tn/744688/priest-whips-women-in-namakkal-district\n",
      "Could not open the link: https://www.ap7am.com/tn/744587/turkey-said-to-have-captured-islamic-state-leader-in-istanbul\n",
      "Could not open the link: https://www.ap7am.com/tn/744486/208-runs-is-the-target-for-lucknow-super-giants-in-ipl-eliminator-match\n",
      "Could not open the link: https://www.ap7am.com/tn/744386/pawan-kalyan-opines-on-mlc-anantha-udayabhaskar-issue\n",
      "Could not open the link: https://www.ap7am.com/tn/744285/ap-ministers-buggana-and-gudivada-busy-in-devos\n",
      "Could not open the link: https://www.ap7am.com/tn/744185/heat-waves-expected-in-coastal-andhra-from-today\n",
      "Could not open the link: https://www.ap7am.com/tn/744084/union-govt-said-china-has-been-building-another-bridge-on-pangong-tso-lake\n",
      "Could not open the link: https://www.ap7am.com/tn/743983/telangana-corona-daily-bulletin\n",
      "Could not open the link: https://www.ap7am.com/tn/743881/telangana-thalli-to-usa-by-garudavega-shipments\n",
      "Could not open the link: https://www.ap7am.com/tn/743779/list-of-theatres-of-usa-where-sekhar-movie-premieres-will-be-shown\n",
      "Could not open the link: https://www.ap7am.com/tn/743677/ysrcp-people-attacked-women-in-kuppam-says-chandrababu\n",
      "Could not open the link: https://www.ap7am.com/tn/743574/manik-saha-is-new-cm-to-tripura\n",
      "Could not open the link: https://www.ap7am.com/tn/743471/uno-on-ukrain-russia-battle-migrants\n",
      "Could not open the link: https://www.ap7am.com/tn/743369/sp-on-rape-case\n",
      "Could not open the link: https://www.ap7am.com/tn/743267/sarkaru-vaari-paata-movie-update\n",
      "Could not open the link: https://www.ap7am.com/tn/743164/kkr-decimate-mi-to-keep-campaign-alive\n",
      "Could not open the link: https://www.ap7am.com/tn/743061/ka-paul-comments-on-congress-party-and-rahul-gandhi\n",
      "Could not open the link: https://www.ap7am.com/tn/742956/mahesh-babu-wrote-letter-to-fans-ahead-of-sarkaaru-vaari-pata-release\n",
      "Could not open the link: https://www.ap7am.com/tn/742855/chandrababu-held-meeting-in-kakinada-district\n",
      "Could not open the link: https://www.ap7am.com/tn/742750/harish-why-you-and-your-uncle-are-not-coming-outside-without-police-asks-revanth-reddy\n",
      "Could not open the link: https://www.ap7am.com/tn/742646/twitter-cant-be-free-for-all-elon-musk\n",
      "Could not open the link: https://www.ap7am.com/tn/742541/reduction-in-covid-daily-cases\n",
      "Could not open the link: https://www.ap7am.com/tn/742439/dhoni-opines-on-future-with-csk\n",
      "Could not open the link: https://www.ap7am.com/tn/742338/talasni-srinivas-yadav-comments-on-ap-ministers\n",
      "Could not open the link: https://www.ap7am.com/tn/742231/jogi-ramesh-fires-on-ktr-comments-over-ap\n",
      "Could not open the link: https://www.ap7am.com/tn/742125/chandrababu-criticizes-state-govt\n",
      "Could not open the link: https://www.ap7am.com/tn/742020/trump-on-ukrain-russia-war\n",
      "Could not open the link: https://www.ap7am.com/tn/741918/anand-mahindra-tags-elon-musk-and-shows-original-tesla-from-india\n",
      "Could not open the link: https://www.ap7am.com/tn/741817/boria-majumdar-likely-to-get-two-year-ban-in-wriddhiman-saha-case\n",
      "Could not open the link: https://www.ap7am.com/tn/741715/privilege-notices-to-namaste-telangana-and-telangana-today\n",
      "Could not open the link: https://www.ap7am.com/tn/741614/ab-venkateswara-rao-fires-on-ap-officials-after-supreme-courts-cancels-his-suspension\n",
      "Could not open the link: https://www.ap7am.com/tn/741510/mahaboobabad-municipal-councellor-murder\n",
      "Could not open the link: https://www.ap7am.com/tn/741408/jagan-serious-on-kakani-govardhan-reddy-and-anil-kumar-yadav\n",
      "Could not open the link: https://www.ap7am.com/tn/741307/chiru-condolences-narayan-das-k-narang-death\n",
      "Could not open the link: https://www.ap7am.com/tn/741202/hindus-must-give-birth-to-more-kids-to-prevent-india-from-becoming-islamic-nation-priest\n",
      "Could not open the link: https://www.ap7am.com/tn/741099/ktr-letter-to-union-it-minister-ashwini-vaishnaw\n",
      "Could not open the link: https://www.ap7am.com/tn/740998/bihar-former-cm-jitan-ram-manjhi-sensational-comments-on-lord-sri-ram\n",
      "Could not open the link: https://www.ap7am.com/tn/740895/revanth-reddy-open-letter-to-kishan-reddy\n",
      "Could not open the link: https://www.ap7am.com/tn/740793/ex-minister-mekathoti-sucharitha-meeting-with-ys-jagan\n",
      "Could not open the link: https://www.ap7am.com/tn/740693/srilanka-announces-defaulting-its-external-debts\n",
      "Could not open the link: https://www.ap7am.com/tn/740590/roja-husband-selvamani-and-daughter-anshu-gets-emotional\n",
      "Could not open the link: https://www.ap7am.com/tn/740490/sunrisers-registered-first-victory-in-ongoing-ipl-season-by-beating-csk\n",
      "Could not open the link: https://www.ap7am.com/tn/740388/eatala-warns-kcr-if-he-harass-farmers\n",
      "Could not open the link: https://www.ap7am.com/tn/740286/doctors-removes-plate-in-the-head-of-former-indian-cricketer-nariman-contractor\n",
      "Could not open the link: https://www.ap7am.com/tn/740182/union-minister-shobha-karandlaje-tweet-on-telangana-paddy-procurement\n",
      "Could not open the link: https://www.ap7am.com/tn/740080/ante-sundaraniki-movie-update\n"
     ]
    }
   ],
   "source": [
    "for i in range(len(links)):\n",
    "    try:\n",
    "        driver.get(links[i])\n",
    "    except:\n",
    "        print(f\"Could not open the link: {links[i]}\")\n",
    "        continue\n",
    "    f = os.open(f\"./Texts/ap7am/{i}.txt\", os.O_RDWR | os.O_CREAT)\n",
    "    text = driver.find_element(By.CLASS_NAME, \"desc-te\").text\n",
    "    if(len(text)<1):\n",
    "        print(f\"Could not find text in the link: {links[i]}\")\n",
    "        continue\n",
    "    os.write(f, text.encode())\n",
    "    os.close(f)"
   ]
  },
  {
   "cell_type": "code",
   "execution_count": null,
   "metadata": {},
   "outputs": [],
   "source": [
    "driver.close()"
   ]
  },
  {
   "cell_type": "code",
   "execution_count": null,
   "metadata": {},
   "outputs": [],
   "source": []
  }
 ],
 "metadata": {
  "kernelspec": {
   "display_name": "Python 3",
   "language": "python",
   "name": "python3"
  },
  "language_info": {
   "codemirror_mode": {
    "name": "ipython",
    "version": 3
   },
   "file_extension": ".py",
   "mimetype": "text/x-python",
   "name": "python",
   "nbconvert_exporter": "python",
   "pygments_lexer": "ipython3",
   "version": "3.11.9"
  }
 },
 "nbformat": 4,
 "nbformat_minor": 2
}
