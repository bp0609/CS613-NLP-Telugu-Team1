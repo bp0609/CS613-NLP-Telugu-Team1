{
 "cells": [
  {
   "cell_type": "code",
   "execution_count": 1,
   "metadata": {},
   "outputs": [],
   "source": [
    "import pandas as pd\n",
    "import numpy as np\n",
    "import os"
   ]
  },
  {
   "cell_type": "code",
   "execution_count": 3,
   "metadata": {},
   "outputs": [
    {
     "data": {
      "text/plain": [
       "['business.csv',\n",
       " 'crime.csv',\n",
       " 'district.csv',\n",
       " 'editorial_news.csv',\n",
       " 'gallery.csv',\n",
       " 'harivillu.csv',\n",
       " 'horoscope.csv',\n",
       " 'life-style.csv',\n",
       " 'movies.csv',\n",
       " 'news.csv',\n",
       " 'off-beat-news.csv',\n",
       " 'spiritual.csv',\n",
       " 'sports.csv',\n",
       " 'tech-news.csv',\n",
       " 'videos.csv']"
      ]
     },
     "execution_count": 3,
     "metadata": {},
     "output_type": "execute_result"
    }
   ],
   "source": [
    "# Load all csv files in the current directory\n",
    "csv_files = [f for f in os.listdir() if f.endswith('.csv')]\n",
    "csv_files"
   ]
  },
  {
   "cell_type": "code",
   "execution_count": 9,
   "metadata": {},
   "outputs": [
    {
     "name": "stdout",
     "output_type": "stream",
     "text": [
      "Loaded business.csv\n",
      "Loaded crime.csv\n",
      "Loaded district.csv\n",
      "Loaded editorial_news.csv\n",
      "Loaded gallery.csv\n",
      "Loaded harivillu.csv\n",
      "Loaded horoscope.csv\n",
      "Loaded life-style.csv\n",
      "Loaded movies.csv\n",
      "Loaded news.csv\n",
      "Loaded off-beat-news.csv\n",
      "Loaded spiritual.csv\n",
      "Loaded sports.csv\n",
      "Loaded tech-news.csv\n",
      "Loaded videos.csv\n"
     ]
    }
   ],
   "source": [
    "# Create a single list containing all the links from the csv files\n",
    "links = []\n",
    "for file in csv_files:\n",
    "    df = pd.read_csv(file)\n",
    "    links.extend(df['link'].tolist())\n",
    "    print(f'Loaded {file}')"
   ]
  },
  {
   "cell_type": "code",
   "execution_count": 11,
   "metadata": {},
   "outputs": [
    {
     "data": {
      "text/plain": [
       "155984"
      ]
     },
     "execution_count": 11,
     "metadata": {},
     "output_type": "execute_result"
    }
   ],
   "source": [
    "len(links)"
   ]
  },
  {
   "cell_type": "code",
   "execution_count": 12,
   "metadata": {},
   "outputs": [
    {
     "data": {
      "text/plain": [
       "107205"
      ]
     },
     "execution_count": 12,
     "metadata": {},
     "output_type": "execute_result"
    }
   ],
   "source": [
    "links = list(set(links))\n",
    "len(links)"
   ]
  },
  {
   "cell_type": "code",
   "execution_count": 13,
   "metadata": {},
   "outputs": [
    {
     "name": "stdout",
     "output_type": "stream",
     "text": [
      "Saved links.csv\n"
     ]
    }
   ],
   "source": [
    "# Write the links to a csv file\n",
    "df = pd.DataFrame({'link': links})\n",
    "df.to_csv('links.csv', index=False)\n",
    "print('Saved links.csv')"
   ]
  },
  {
   "cell_type": "code",
   "execution_count": null,
   "metadata": {},
   "outputs": [],
   "source": []
  }
 ],
 "metadata": {
  "kernelspec": {
   "display_name": "Python 3",
   "language": "python",
   "name": "python3"
  },
  "language_info": {
   "codemirror_mode": {
    "name": "ipython",
    "version": 3
   },
   "file_extension": ".py",
   "mimetype": "text/x-python",
   "name": "python",
   "nbconvert_exporter": "python",
   "pygments_lexer": "ipython3",
   "version": "3.12.7"
  }
 },
 "nbformat": 4,
 "nbformat_minor": 2
}
