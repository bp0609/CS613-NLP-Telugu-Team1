{
 "cells": [
  {
   "cell_type": "code",
   "execution_count": null,
   "id": "98f1e4e8-99b2-4e72-ab3f-090848df9019",
   "metadata": {},
   "outputs": [],
   "source": [
    "!pip install selenium -q"
   ]
  },
  {
   "cell_type": "code",
   "execution_count": 1,
   "id": "ea71032a-70e3-4b47-8c55-ba56243f713c",
   "metadata": {},
   "outputs": [],
   "source": [
    "import pandas as pd\n",
    "from selenium import webdriver\n",
    "from selenium.webdriver.common.by import By"
   ]
  },
  {
   "cell_type": "code",
   "execution_count": 2,
   "id": "6a428e5e-ed3c-4723-bc95-a1f067a499f1",
   "metadata": {},
   "outputs": [],
   "source": [
    "driver = webdriver.Chrome()"
   ]
  },
  {
   "cell_type": "code",
   "execution_count": 3,
   "id": "0e78456b-f00f-4a5d-98b1-ca2eaf5a5045",
   "metadata": {},
   "outputs": [],
   "source": [
    "link = \"https://www.bbc.com/news/articles/cd1646ewzleo\""
   ]
  },
  {
   "cell_type": "code",
   "execution_count": 4,
   "id": "298be59a-3107-46a3-9e03-cfcb44b54edf",
   "metadata": {},
   "outputs": [],
   "source": [
    "driver.get(link)"
   ]
  },
  {
   "cell_type": "markdown",
   "id": "6b09e615-0499-415f-a87d-81d74a057b33",
   "metadata": {},
   "source": [
    "##### Getting specific article tag"
   ]
  },
  {
   "cell_type": "code",
   "execution_count": 5,
   "id": "a42f944a-9b77-49ed-a142-c4a1c66c4f66",
   "metadata": {},
   "outputs": [],
   "source": [
    "art = driver.find_elements(By.TAG_NAME, 'article')\n",
    "if len(art) != 1:\n",
    "    print(f\"Some problem with link: {link}\")"
   ]
  },
  {
   "cell_type": "markdown",
   "id": "c2e6f4d1-d60c-4327-bcc8-b97410228255",
   "metadata": {},
   "source": [
    "##### Extracting Headline in arcticle tag"
   ]
  },
  {
   "cell_type": "code",
   "execution_count": 6,
   "id": "90c66404-13ff-4539-be0a-b2abee2a2165",
   "metadata": {},
   "outputs": [],
   "source": [
    "headline = art[0].find_elements(By.CSS_SELECTOR, '[data-component=\"headline-block\"]')\n",
    "if len(headline) != 1:\n",
    "    print(f\"Some problem with link: {link}\")"
   ]
  },
  {
   "cell_type": "code",
   "execution_count": 7,
   "id": "62338712-f678-4073-993e-69cb68ccde1d",
   "metadata": {},
   "outputs": [],
   "source": [
    "header = headline[0].find_elements(By.TAG_NAME, 'h1')\n",
    "if len(header) != 1:\n",
    "    print(f\"Some problem with link: {link}\")\n",
    "\n",
    "header_text = header[0].get_attribute(\"innerText\")"
   ]
  },
  {
   "cell_type": "code",
   "execution_count": 8,
   "id": "2a4b8f77",
   "metadata": {},
   "outputs": [
    {
     "data": {
      "text/plain": [
       "'The mind-bending mirrors behind advanced technology'"
      ]
     },
     "execution_count": 8,
     "metadata": {},
     "output_type": "execute_result"
    }
   ],
   "source": [
    "header_text"
   ]
  },
  {
   "cell_type": "markdown",
   "id": "5cd4ff8f-7ace-4bd4-b5ee-5cd5dc52c88d",
   "metadata": {},
   "source": [
    "##### Extracting context"
   ]
  },
  {
   "cell_type": "code",
   "execution_count": 9,
   "id": "3b27f4ef-2d26-4e6a-aea7-1e95438ddc1c",
   "metadata": {},
   "outputs": [],
   "source": [
    "data1 = art[0].find_elements(By.CSS_SELECTOR, '[data-component=\"text-block\"]')\n",
    "if len(data1) < 2:\n",
    "    print(f\"Some problem with link: {link}\")"
   ]
  },
  {
   "cell_type": "code",
   "execution_count": 10,
   "id": "20c0038c",
   "metadata": {},
   "outputs": [
    {
     "data": {
      "text/plain": [
       "[<selenium.webdriver.remote.webelement.WebElement (session=\"02621217c3a543d81b0436adf767962a\", element=\"f.EE00A183966E8E56DAC7A8B1DBDC9651.d.790BDB33773C2E20E204F3E6285F8101.e.278\")>,\n",
       " <selenium.webdriver.remote.webelement.WebElement (session=\"02621217c3a543d81b0436adf767962a\", element=\"f.EE00A183966E8E56DAC7A8B1DBDC9651.d.790BDB33773C2E20E204F3E6285F8101.e.298\")>,\n",
       " <selenium.webdriver.remote.webelement.WebElement (session=\"02621217c3a543d81b0436adf767962a\", element=\"f.EE00A183966E8E56DAC7A8B1DBDC9651.d.790BDB33773C2E20E204F3E6285F8101.e.327\")>,\n",
       " <selenium.webdriver.remote.webelement.WebElement (session=\"02621217c3a543d81b0436adf767962a\", element=\"f.EE00A183966E8E56DAC7A8B1DBDC9651.d.790BDB33773C2E20E204F3E6285F8101.e.349\")>,\n",
       " <selenium.webdriver.remote.webelement.WebElement (session=\"02621217c3a543d81b0436adf767962a\", element=\"f.EE00A183966E8E56DAC7A8B1DBDC9651.d.790BDB33773C2E20E204F3E6285F8101.e.366\")>]"
      ]
     },
     "execution_count": 10,
     "metadata": {},
     "output_type": "execute_result"
    }
   ],
   "source": [
    "data1"
   ]
  },
  {
   "cell_type": "code",
   "execution_count": 18,
   "id": "988fa12a-482e-4f3f-8496-c3916d9f76d5",
   "metadata": {},
   "outputs": [],
   "source": [
    "data_str = \"\"\n",
    "for i in range(len(data1)):\n",
    "    p_tag = data1[i].find_elements(By.TAG_NAME, 'p')\n",
    "    for j in range(len(p_tag)):\n",
    "        data_str = data_str + p_tag[j].get_attribute(\"innerText\") + \"\\n\""
   ]
  },
  {
   "cell_type": "code",
   "execution_count": 19,
   "id": "c61ad3da",
   "metadata": {},
   "outputs": [
    {
     "name": "stdout",
     "output_type": "stream",
     "text": [
      "High on a mountain, in Chile's bone dry Atacama desert the European Southern Observatory (ESO) is currently building the world's largest optical telescope.\n",
      "No time was wasted on choosing a name - it will be called the Extremely Large Telescope or ELT.\n",
      "Instead, huge energy has gone into designing and building “the world’s biggest eye on the sky”, which should start collecting images in 2028 and is very likely to expand our understanding of the universe.\n",
      "None of that would be possible without some of the most advanced mirrors ever made.\n",
      "Dr Elise Vernet is an adaptive optics specialist at ESO and has been overseeing development of the five giant mirrors that will gather and channel light to the telescope’s measuring equipment.\n",
      "Each of the ELT’s custom mirrors is a feat of optical design.\n",
      "Dr Vernet describes the 14ft (4.25m) convex M2 mirror as “a piece of art”.\n",
      "But perhaps the M1 and M4 mirrors best express the level of intricacy and precision required.\n",
      "The primary mirror, M1, is the largest mirror ever made for an optical telescope.\n",
      "“It’s 39m [128ft] in diameter, made up of [798] hexagonal mirror segments, aligned so that it behaves as a perfect monolithic mirror,” says Dr Vernet.\n",
      "M1 will collect 100 million times more light than the human eye and must be able to maintain position and shape to a level of precision 10,000 times finer than a human hair.\n",
      "The M4 is the largest deformable mirror ever made and will be able to change shape 1,000 times per second to correct for atmospheric turbulence and the vibrations of the telescope itself that could otherwise distort imagery.\n",
      "Its flexible surface is made up of six petals of a glass-ceramic material that is less than 2mm (0.075in) thick.\n",
      "The petals were made by Schott in Mainz, Germany and then shipped to engineering firm Safran Reosc just outside Paris, where they were polished and assembled into the complete mirror.\n",
      "All five mirrors are nearing completion and will soon be transported to Chile for installation.\n",
      "While these enormous mirrors will be used to capture the light of the cosmos, ESO’s neighbours in Garching, at the Max Planck Institute for Quantum Optics, have created a quantum mirror to operate at the tiniest scales imaginable.\n",
      "In 2020, a research team was able to make a single layer of 200 aligned atoms behave collectively to reflect light, effectively creating a mirror so small it cannot be seen by the naked eye.\n",
      "In 2023, they succeeded in placing a single microscopically controlled atom at the centre of the array to create a “quantum switch” that can be used to control whether the atoms are transparent or reflective.\n",
      "“What theorists predicted, and we observed this experimentally, is that in these ordered structures, once you absorb a photon and it gets re-emitted, it's actually emitted [in one predictable] direction and this is what makes it a mirror,” says Dr Pascal Weckesser, a postdoctoral researcher at the institute.\n",
      "This ability to control the direction of atom-reflected light could have future applications in a number of quantum technologies like, for example, hack-proof quantum networks for storing and transmitting information.\n",
      "Further north-west in Oberkochen near Stuttgart, mirrors with another extreme property are being made by Zeiss.\n",
      "The optics company spent years developing an ultra-flat mirror which has become a key component in the machines which print computer chips, called extreme ultraviolet lithography machines, or EUVs.\n",
      "Dutch company ASML is the world's leading maker of EUVs, and Zeiss mirrors are an essential component of them.\n",
      "Zeiss’s EUV mirrors can reflect light at very small wavelengths which enables image clarity at a tiny scale, so more and more transistors can be printed on the same area of silicon wafer.\n",
      "To explain how flat the mirrors are, Dr Frank Rohmund, president of semiconductor manufacturing optics at Zeiss, uses a topographical analogy.\n",
      "“If you took a household mirror and blew it up to the size of Germany, the highest elevation point would be 5m. On a space mirror [as in the James Webb Space Telescope], it would be 2cm [0.75in]. On an EUV mirror, it would be 0.1mm,” he explains.\n",
      "This ultra-smooth mirror surface combined with systems that control the mirror’s positioning, also made by Zeiss, yield an accuracy level equivalent to bouncing light off an EUV mirror on the Earth’s surface and picking out a golf ball on the moon.\n",
      "While those mirrors may already sound extreme, Zeiss has plans for improvement, to help make even more powerful computer chips.\n",
      "“We have ideas about how to develop EUV further. By 2030, the goal is to have a microchip with one trillion transistors on it. Today, we are maybe at a hundred billion.”\n",
      "That goal came closer with Zeiss's latest tech, which enables the printing of about three times more structures on the same area than the current generation of chip making machines.\n",
      "“The semiconductor industry has this dominating strong roadmap which provides a drumbeat for all players contributing to the solution. With this, we are able to provide progress in terms of microchip fabrication which today allows things like artificial intelligence which were unthinkable even ten years ago,” says Dr Rohmund.\n",
      "What humanity will understand and be capable of in ten years’ time remains to be seen, but mirrors will no doubt be at the heart of the technologies that take us there.\n",
      "\n"
     ]
    }
   ],
   "source": [
    "print(data_str)"
   ]
  },
  {
   "cell_type": "code",
   "execution_count": 20,
   "id": "540c4ce6-9275-4d65-892d-0fa5f6234428",
   "metadata": {},
   "outputs": [],
   "source": [
    "data_str = data_str.strip()"
   ]
  },
  {
   "cell_type": "code",
   "execution_count": 21,
   "id": "421379bb",
   "metadata": {},
   "outputs": [
    {
     "name": "stdout",
     "output_type": "stream",
     "text": [
      "High on a mountain, in Chile's bone dry Atacama desert the European Southern Observatory (ESO) is currently building the world's largest optical telescope.\n",
      "No time was wasted on choosing a name - it will be called the Extremely Large Telescope or ELT.\n",
      "Instead, huge energy has gone into designing and building “the world’s biggest eye on the sky”, which should start collecting images in 2028 and is very likely to expand our understanding of the universe.\n",
      "None of that would be possible without some of the most advanced mirrors ever made.\n",
      "Dr Elise Vernet is an adaptive optics specialist at ESO and has been overseeing development of the five giant mirrors that will gather and channel light to the telescope’s measuring equipment.\n",
      "Each of the ELT’s custom mirrors is a feat of optical design.\n",
      "Dr Vernet describes the 14ft (4.25m) convex M2 mirror as “a piece of art”.\n",
      "But perhaps the M1 and M4 mirrors best express the level of intricacy and precision required.\n",
      "The primary mirror, M1, is the largest mirror ever made for an optical telescope.\n",
      "“It’s 39m [128ft] in diameter, made up of [798] hexagonal mirror segments, aligned so that it behaves as a perfect monolithic mirror,” says Dr Vernet.\n",
      "M1 will collect 100 million times more light than the human eye and must be able to maintain position and shape to a level of precision 10,000 times finer than a human hair.\n",
      "The M4 is the largest deformable mirror ever made and will be able to change shape 1,000 times per second to correct for atmospheric turbulence and the vibrations of the telescope itself that could otherwise distort imagery.\n",
      "Its flexible surface is made up of six petals of a glass-ceramic material that is less than 2mm (0.075in) thick.\n",
      "The petals were made by Schott in Mainz, Germany and then shipped to engineering firm Safran Reosc just outside Paris, where they were polished and assembled into the complete mirror.\n",
      "All five mirrors are nearing completion and will soon be transported to Chile for installation.\n",
      "While these enormous mirrors will be used to capture the light of the cosmos, ESO’s neighbours in Garching, at the Max Planck Institute for Quantum Optics, have created a quantum mirror to operate at the tiniest scales imaginable.\n",
      "In 2020, a research team was able to make a single layer of 200 aligned atoms behave collectively to reflect light, effectively creating a mirror so small it cannot be seen by the naked eye.\n",
      "In 2023, they succeeded in placing a single microscopically controlled atom at the centre of the array to create a “quantum switch” that can be used to control whether the atoms are transparent or reflective.\n",
      "“What theorists predicted, and we observed this experimentally, is that in these ordered structures, once you absorb a photon and it gets re-emitted, it's actually emitted [in one predictable] direction and this is what makes it a mirror,” says Dr Pascal Weckesser, a postdoctoral researcher at the institute.\n",
      "This ability to control the direction of atom-reflected light could have future applications in a number of quantum technologies like, for example, hack-proof quantum networks for storing and transmitting information.\n",
      "Further north-west in Oberkochen near Stuttgart, mirrors with another extreme property are being made by Zeiss.\n",
      "The optics company spent years developing an ultra-flat mirror which has become a key component in the machines which print computer chips, called extreme ultraviolet lithography machines, or EUVs.\n",
      "Dutch company ASML is the world's leading maker of EUVs, and Zeiss mirrors are an essential component of them.\n",
      "Zeiss’s EUV mirrors can reflect light at very small wavelengths which enables image clarity at a tiny scale, so more and more transistors can be printed on the same area of silicon wafer.\n",
      "To explain how flat the mirrors are, Dr Frank Rohmund, president of semiconductor manufacturing optics at Zeiss, uses a topographical analogy.\n",
      "“If you took a household mirror and blew it up to the size of Germany, the highest elevation point would be 5m. On a space mirror [as in the James Webb Space Telescope], it would be 2cm [0.75in]. On an EUV mirror, it would be 0.1mm,” he explains.\n",
      "This ultra-smooth mirror surface combined with systems that control the mirror’s positioning, also made by Zeiss, yield an accuracy level equivalent to bouncing light off an EUV mirror on the Earth’s surface and picking out a golf ball on the moon.\n",
      "While those mirrors may already sound extreme, Zeiss has plans for improvement, to help make even more powerful computer chips.\n",
      "“We have ideas about how to develop EUV further. By 2030, the goal is to have a microchip with one trillion transistors on it. Today, we are maybe at a hundred billion.”\n",
      "That goal came closer with Zeiss's latest tech, which enables the printing of about three times more structures on the same area than the current generation of chip making machines.\n",
      "“The semiconductor industry has this dominating strong roadmap which provides a drumbeat for all players contributing to the solution. With this, we are able to provide progress in terms of microchip fabrication which today allows things like artificial intelligence which were unthinkable even ten years ago,” says Dr Rohmund.\n",
      "What humanity will understand and be capable of in ten years’ time remains to be seen, but mirrors will no doubt be at the heart of the technologies that take us there.\n"
     ]
    }
   ],
   "source": [
    "print(data_str)"
   ]
  },
  {
   "cell_type": "markdown",
   "id": "1b9856ae-6a12-4f65-ae82-5cbd2acb25f0",
   "metadata": {},
   "source": [
    "##### Closing driver"
   ]
  },
  {
   "cell_type": "code",
   "execution_count": 22,
   "id": "2da1f9b2-afc8-4945-a63d-b8b98928c580",
   "metadata": {},
   "outputs": [],
   "source": [
    "driver.close()"
   ]
  },
  {
   "cell_type": "markdown",
   "id": "02735298-32df-4f5f-aa60-586c7bc19153",
   "metadata": {},
   "source": [
    "##### Saving data"
   ]
  },
  {
   "cell_type": "code",
   "execution_count": 23,
   "id": "b0bab84d-2fa0-40ff-9784-8db48c96be15",
   "metadata": {},
   "outputs": [],
   "source": [
    "df = pd.DataFrame(columns=[\"url\", \"heading\", \"content\"])"
   ]
  },
  {
   "cell_type": "code",
   "execution_count": 24,
   "id": "7f19b52b-6090-41b3-9e89-9cb047c28ea4",
   "metadata": {},
   "outputs": [],
   "source": [
    "df.loc[len(df)] = [link, header_text, data_str]"
   ]
  },
  {
   "cell_type": "code",
   "execution_count": 25,
   "id": "ebd2c0c0-e5db-4285-b0f2-695e3f0dfadc",
   "metadata": {},
   "outputs": [
    {
     "data": {
      "text/html": [
       "<div>\n",
       "<style scoped>\n",
       "    .dataframe tbody tr th:only-of-type {\n",
       "        vertical-align: middle;\n",
       "    }\n",
       "\n",
       "    .dataframe tbody tr th {\n",
       "        vertical-align: top;\n",
       "    }\n",
       "\n",
       "    .dataframe thead th {\n",
       "        text-align: right;\n",
       "    }\n",
       "</style>\n",
       "<table border=\"1\" class=\"dataframe\">\n",
       "  <thead>\n",
       "    <tr style=\"text-align: right;\">\n",
       "      <th></th>\n",
       "      <th>url</th>\n",
       "      <th>heading</th>\n",
       "      <th>content</th>\n",
       "    </tr>\n",
       "  </thead>\n",
       "  <tbody>\n",
       "    <tr>\n",
       "      <th>0</th>\n",
       "      <td>https://www.bbc.com/news/articles/cd1646ewzleo</td>\n",
       "      <td>The mind-bending mirrors behind advanced techn...</td>\n",
       "      <td>High on a mountain, in Chile's bone dry Atacam...</td>\n",
       "    </tr>\n",
       "  </tbody>\n",
       "</table>\n",
       "</div>"
      ],
      "text/plain": [
       "                                              url  \\\n",
       "0  https://www.bbc.com/news/articles/cd1646ewzleo   \n",
       "\n",
       "                                             heading  \\\n",
       "0  The mind-bending mirrors behind advanced techn...   \n",
       "\n",
       "                                             content  \n",
       "0  High on a mountain, in Chile's bone dry Atacam...  "
      ]
     },
     "execution_count": 25,
     "metadata": {},
     "output_type": "execute_result"
    }
   ],
   "source": [
    "df"
   ]
  },
  {
   "cell_type": "code",
   "execution_count": 26,
   "id": "9114a014-b319-4cb7-ab78-7efc2a48891f",
   "metadata": {},
   "outputs": [],
   "source": [
    "df.to_csv(\"dummy_data.csv\", index=False)"
   ]
  }
 ],
 "metadata": {
  "kernelspec": {
   "display_name": "Python 3 (ipykernel)",
   "language": "python",
   "name": "python3"
  },
  "language_info": {
   "codemirror_mode": {
    "name": "ipython",
    "version": 3
   },
   "file_extension": ".py",
   "mimetype": "text/x-python",
   "name": "python",
   "nbconvert_exporter": "python",
   "pygments_lexer": "ipython3",
   "version": "3.9.16"
  }
 },
 "nbformat": 4,
 "nbformat_minor": 5
}
