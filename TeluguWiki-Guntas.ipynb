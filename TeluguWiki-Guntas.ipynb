{
 "cells": [
  {
   "cell_type": "code",
   "execution_count": 23,
   "metadata": {},
   "outputs": [],
   "source": [
    "from time import sleep"
   ]
  },
  {
   "cell_type": "code",
   "execution_count": 1,
   "metadata": {},
   "outputs": [],
   "source": [
    "from selenium import webdriver\n",
    "from selenium.webdriver.common.by import By\n",
    "from selenium.webdriver.chrome.options import Options\n",
    "import pandas as pd"
   ]
  },
  {
   "cell_type": "code",
   "execution_count": 10,
   "metadata": {},
   "outputs": [],
   "source": [
    "url = \"https://te.wikipedia.org/wiki/%E0%B0%AA%E0%B1%8D%E0%B0%B0%E0%B0%A4%E0%B1%8D%E0%B0%AF%E0%B1%87%E0%B0%95:%E0%B0%85%E0%B0%A8%E0%B1%8D%E0%B0%A8%E0%B0%BF%E0%B0%AA%E0%B1%87%E0%B0%9C%E0%B1%80%E0%B0%B2%E0%B1%81\"\n",
    "# url = \"https://te.wikipedia.org/w/index.php?title=%E0%B0%AA%E0%B1%8D%E0%B0%B0%E0%B0%A4%E0%B1%8D%E0%B0%AF%E0%B1%87%E0%B0%95:%E0%B0%85%E0%B0%A8%E0%B1%8D%E0%B0%A8%E0%B0%BF%E0%B0%AA%E0%B1%87%E0%B0%9C%E0%B1%80%E0%B0%B2%E0%B1%81&from=1719\"\n",
    "\n",
    "try:\n",
    "    driver = webdriver.Chrome()\n",
    "except:\n",
    "    chrome_options = Options()\n",
    "    chrome_options.add_argument(\"--headless\")\n",
    "    chrome_options.add_argument(\"--no-sandbox\")\n",
    "    chrome_options.add_argument(\"--disable-dev-shm-usage\")\n",
    "    driver = webdriver.Chrome(options=chrome_options)\n",
    "    print(\"Running in headless mode.\")"
   ]
  },
  {
   "cell_type": "code",
   "execution_count": 26,
   "metadata": {},
   "outputs": [],
   "source": [
    "url = \"https://te.wikipedia.org/wiki/%E0%B0%AA%E0%B1%8D%E0%B0%B0%E0%B0%A4%E0%B1%8D%E0%B0%AF%E0%B1%87%E0%B0%95:%E0%B0%85%E0%B0%A8%E0%B1%8D%E0%B0%A8%E0%B0%BF%E0%B0%AA%E0%B1%87%E0%B0%9C%E0%B1%80%E0%B0%B2%E0%B1%81\"\n",
    "driver.get(url)"
   ]
  },
  {
   "cell_type": "code",
   "execution_count": 18,
   "metadata": {},
   "outputs": [],
   "source": [
    "url = \"https://te.wikipedia.org/w/index.php?title=%E0%B0%AA%E0%B1%8D%E0%B0%B0%E0%B0%A4%E0%B1%8D%E0%B0%AF%E0%B1%87%E0%B0%95:%E0%B0%85%E0%B0%A8%E0%B1%8D%E0%B0%A8%E0%B0%BF%E0%B0%AA%E0%B1%87%E0%B0%9C%E0%B1%80%E0%B0%B2%E0%B1%81&from=1719\"\n",
    "driver.get(url)"
   ]
  },
  {
   "cell_type": "code",
   "execution_count": 28,
   "metadata": {},
   "outputs": [],
   "source": [
    "next_button = driver.find_elements(By.CLASS_NAME, \"mw-allpages-nav\")\n",
    "anchors = [nbtn.find_elements(By.TAG_NAME, \"a\") for nbtn in next_button]\n",
    "url = anchors[0][0].get_attribute(\"href\")\n",
    "driver.get(url)"
   ]
  },
  {
   "cell_type": "code",
   "execution_count": 16,
   "metadata": {},
   "outputs": [],
   "source": [
    "ul_of_link = driver.find_element(By.CLASS_NAME, \"mw-allpages-chunk\")\n",
    "anchors = ul_of_link.find_elements(By.TAG_NAME, \"a\")\n",
    "links = [a.get_attribute(\"href\") for a in anchors]\n",
    "text_of_links = [a.text for a in anchors]"
   ]
  },
  {
   "cell_type": "code",
   "execution_count": 17,
   "metadata": {},
   "outputs": [],
   "source": [
    "df = pd.DataFrame({\"Title\": text_of_links, \"links\": links})"
   ]
  },
  {
   "cell_type": "code",
   "execution_count": 29,
   "metadata": {},
   "outputs": [],
   "source": [
    "while(True):\n",
    "    try:\n",
    "        driver.get(url)\n",
    "        ul_of_link = driver.find_element(By.CLASS_NAME, \"mw-allpages-chunk\")\n",
    "        anchors = ul_of_link.find_elements(By.TAG_NAME, \"a\")\n",
    "        links = [a.get_attribute(\"href\") for a in anchors]\n",
    "        text_of_links = [a.text for a in anchors]\n",
    "        df = pd.concat([df, pd.DataFrame({\"Title\": text_of_links, \"links\": links})])\n",
    "        next_button = driver.find_elements(By.CLASS_NAME, \"mw-allpages-nav\")\n",
    "        anchors = [nbtn.find_elements(By.TAG_NAME, \"a\") for nbtn in next_button]\n",
    "        url = anchors[0][1].get_attribute(\"href\")\n",
    "    except:\n",
    "        break"
   ]
  },
  {
   "cell_type": "code",
   "execution_count": 30,
   "metadata": {},
   "outputs": [
    {
     "data": {
      "text/html": [
       "<div>\n",
       "<style scoped>\n",
       "    .dataframe tbody tr th:only-of-type {\n",
       "        vertical-align: middle;\n",
       "    }\n",
       "\n",
       "    .dataframe tbody tr th {\n",
       "        vertical-align: top;\n",
       "    }\n",
       "\n",
       "    .dataframe thead th {\n",
       "        text-align: right;\n",
       "    }\n",
       "</style>\n",
       "<table border=\"1\" class=\"dataframe\">\n",
       "  <thead>\n",
       "    <tr style=\"text-align: right;\">\n",
       "      <th></th>\n",
       "      <th>Title</th>\n",
       "      <th>links</th>\n",
       "    </tr>\n",
       "  </thead>\n",
       "  <tbody>\n",
       "    <tr>\n",
       "      <th>0</th>\n",
       "      <td>\"సాంగ్ అఫ్ స్పేరోస్\" ఇరాన్ దేశపు సినిమా</td>\n",
       "      <td>https://te.wikipedia.org/wiki/%22%E0%B0%B8%E0%...</td>\n",
       "    </tr>\n",
       "    <tr>\n",
       "      <th>1</th>\n",
       "      <td>''బిగ్ బాస్ తెలుగు 1''</td>\n",
       "      <td>https://te.wikipedia.org/wiki/%27%27%E0%B0%AC%...</td>\n",
       "    </tr>\n",
       "    <tr>\n",
       "      <th>2</th>\n",
       "      <td>'భీష్మ' సుజాత</td>\n",
       "      <td>https://te.wikipedia.org/wiki/%27%E0%B0%AD%E0%...</td>\n",
       "    </tr>\n",
       "    <tr>\n",
       "      <th>3</th>\n",
       "      <td>(NH4)2(PtCl6)</td>\n",
       "      <td>https://te.wikipedia.org/wiki/(NH4)2(PtCl6)</td>\n",
       "    </tr>\n",
       "    <tr>\n",
       "      <th>4</th>\n",
       "      <td>(NH4)2Cr2O7</td>\n",
       "      <td>https://te.wikipedia.org/wiki/(NH4)2Cr2O7</td>\n",
       "    </tr>\n",
       "    <tr>\n",
       "      <th>...</th>\n",
       "      <td>...</td>\n",
       "      <td>...</td>\n",
       "    </tr>\n",
       "    <tr>\n",
       "      <th>38</th>\n",
       "      <td>‌సర్కార్ ఎక్స్‌ప్రెస్</td>\n",
       "      <td>https://te.wikipedia.org/wiki/%E2%80%8C%E0%B0%...</td>\n",
       "    </tr>\n",
       "    <tr>\n",
       "      <th>39</th>\n",
       "      <td>‌హరవిలాస్</td>\n",
       "      <td>https://te.wikipedia.org/wiki/%E2%80%8C%E0%B0%...</td>\n",
       "    </tr>\n",
       "    <tr>\n",
       "      <th>40</th>\n",
       "      <td>‌హలో డార్లింగ్</td>\n",
       "      <td>https://te.wikipedia.org/wiki/%E2%80%8C%E0%B0%...</td>\n",
       "    </tr>\n",
       "    <tr>\n",
       "      <th>41</th>\n",
       "      <td>‌హలో పార్టనర్</td>\n",
       "      <td>https://te.wikipedia.org/wiki/%E2%80%8C%E0%B0%...</td>\n",
       "    </tr>\n",
       "    <tr>\n",
       "      <th>42</th>\n",
       "      <td>‌హలో బ్రదర్</td>\n",
       "      <td>https://te.wikipedia.org/wiki/%E2%80%8C%E0%B0%...</td>\n",
       "    </tr>\n",
       "  </tbody>\n",
       "</table>\n",
       "<p>134593 rows × 2 columns</p>\n",
       "</div>"
      ],
      "text/plain": [
       "                                      Title  \\\n",
       "0   \"సాంగ్ అఫ్ స్పేరోస్\" ఇరాన్ దేశపు సినిమా   \n",
       "1                    ''బిగ్ బాస్ తెలుగు 1''   \n",
       "2                             'భీష్మ' సుజాత   \n",
       "3                             (NH4)2(PtCl6)   \n",
       "4                               (NH4)2Cr2O7   \n",
       "..                                      ...   \n",
       "38                    ‌సర్కార్ ఎక్స్‌ప్రెస్   \n",
       "39                                ‌హరవిలాస్   \n",
       "40                           ‌హలో డార్లింగ్   \n",
       "41                            ‌హలో పార్టనర్   \n",
       "42                              ‌హలో బ్రదర్   \n",
       "\n",
       "                                                links  \n",
       "0   https://te.wikipedia.org/wiki/%22%E0%B0%B8%E0%...  \n",
       "1   https://te.wikipedia.org/wiki/%27%27%E0%B0%AC%...  \n",
       "2   https://te.wikipedia.org/wiki/%27%E0%B0%AD%E0%...  \n",
       "3         https://te.wikipedia.org/wiki/(NH4)2(PtCl6)  \n",
       "4           https://te.wikipedia.org/wiki/(NH4)2Cr2O7  \n",
       "..                                                ...  \n",
       "38  https://te.wikipedia.org/wiki/%E2%80%8C%E0%B0%...  \n",
       "39  https://te.wikipedia.org/wiki/%E2%80%8C%E0%B0%...  \n",
       "40  https://te.wikipedia.org/wiki/%E2%80%8C%E0%B0%...  \n",
       "41  https://te.wikipedia.org/wiki/%E2%80%8C%E0%B0%...  \n",
       "42  https://te.wikipedia.org/wiki/%E2%80%8C%E0%B0%...  \n",
       "\n",
       "[134593 rows x 2 columns]"
      ]
     },
     "execution_count": 30,
     "metadata": {},
     "output_type": "execute_result"
    }
   ],
   "source": [
    "df.to_csv(\"telugu_wiki_links.csv\", index=False)\n",
    "df"
   ]
  }
 ],
 "metadata": {
  "kernelspec": {
   "display_name": "base",
   "language": "python",
   "name": "python3"
  },
  "language_info": {
   "codemirror_mode": {
    "name": "ipython",
    "version": 3
   },
   "file_extension": ".py",
   "mimetype": "text/x-python",
   "name": "python",
   "nbconvert_exporter": "python",
   "pygments_lexer": "ipython3",
   "version": "3.9.16"
  }
 },
 "nbformat": 4,
 "nbformat_minor": 2
}
