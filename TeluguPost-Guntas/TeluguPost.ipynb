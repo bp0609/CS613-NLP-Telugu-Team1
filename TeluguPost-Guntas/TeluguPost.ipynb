{
 "cells": [
  {
   "cell_type": "code",
   "execution_count": 24,
   "metadata": {},
   "outputs": [],
   "source": [
    "from bs4 import BeautifulSoup\n",
    "import urllib.request\n",
    "import urllib.parse\n",
    "import json"
   ]
  },
  {
   "cell_type": "code",
   "execution_count": 25,
   "metadata": {},
   "outputs": [
    {
     "data": {
      "text/plain": [
       "'\\nhttps://www.telugupost.com/politics -> 139 Pages\\nhttps://www.telugupost.com/crime -> 253 pages\\nhttps://www.telugupost.com/movie-news -> 1496 pages\\n'"
      ]
     },
     "execution_count": 25,
     "metadata": {},
     "output_type": "execute_result"
    }
   ],
   "source": [
    "base_url = \"https://www.telugupost.com/movie-news\"\n",
    "\n",
    "\"\"\"\n",
    "https://www.telugupost.com/politics -> 139 Pages\n",
    "https://www.telugupost.com/crime -> 253 pages\n",
    "https://www.telugupost.com/movie-news -> 1496 pages\n",
    "\"\"\""
   ]
  },
  {
   "cell_type": "code",
   "execution_count": 26,
   "metadata": {},
   "outputs": [],
   "source": [
    "req = urllib.request.Request(\n",
    "    base_url, \n",
    "    data=None, \n",
    "    headers={\n",
    "        'User-Agent': 'Mozilla/5.0 (Macintosh; Intel Mac OS X 10_9_3) AppleWebKit/537.36 (KHTML, like Gecko) Chrome/35.0.1916.47 Safari/537.36'\n",
    "    }\n",
    ")\n",
    "\n",
    "page = urllib.request.urlopen(req).read()\n",
    "soup = BeautifulSoup(page, 'html.parser')"
   ]
  },
  {
   "cell_type": "code",
   "execution_count": 27,
   "metadata": {},
   "outputs": [
    {
     "data": {
      "text/plain": [
       "['https://www.telugupost.com//movie-news/megastar-chiranjeevi-got-another-reward-another-rare-honor-megastar-chiranjeevis-name-has-entered-the-guinness-book-of-records-1552264',\n",
       " 'https://www.telugupost.com//movie-news/andhra-pradesh-government-has-taken-a-decision-by-giving-permission-for-additional-shows-to-devara-movie-orders-to-this-effect-were-issued-a-short-time-ago-1552163',\n",
       " 'https://www.telugupost.com//movie-news/pocso-case-has-been-registered-against-choreographer-jony-master-four-police-teams-are-searching-for-him-1551829',\n",
       " 'https://www.telugupost.com//movie-news/controversies-are-swirling-on-the-casting-couch-in-tollywood-allegations-against-dance-masters-and-directors-are-shocking-the-film-industry-1551781',\n",
       " 'https://www.telugupost.com//movie-news/actress-megha-akash-marries-saai-vishnu-celebrities-and-fans-extend-their-wishes-1551490',\n",
       " 'https://www.telugupost.com//movie-news/devara-movie-tickets-price-in-andhra-pradesh-and-telangana-states-what-time-will-be-special-shows-1551488',\n",
       " 'https://www.telugupost.com//movie-news/this-hero-surpasses-shah-rukh-khan-becomes-indias-highest-paid-actor-at-rs-275-crores-1551448',\n",
       " 'https://www.telugupost.com//movie-news/ntr-video-call-with-kaushik-fan-of-jr-ntr-who-is-suffering-with-blood-cancer-1551405',\n",
       " 'https://www.telugupost.com//andhra-pradesh/ap-womens-commission-chairperson-gajjela-venkatalakshmi-was-interviewed-by-media-regarding-the-case-of-kadambari-1551397',\n",
       " 'https://www.telugupost.com//movie-news/ntr-devara-movie-pre-release-event-details-announced-1551351',\n",
       " 'https://www.telugupost.com//movie-news/rakul-preet-singh-cried-after-being-replaced-in-prabhas-film-was-not-informed-1551174',\n",
       " 'https://www.telugupost.com//movie-news/cancer-patient-final-wish-is-to-watch-jr-ntr-devara-movie-1551157']"
      ]
     },
     "execution_count": 27,
     "metadata": {},
     "output_type": "execute_result"
    }
   ],
   "source": [
    "articles = soup.find_all('article')\n",
    "links = []\n",
    "for article in articles:\n",
    "    link = \"https://www.telugupost.com/\" + article.find('a')['href']\n",
    "    links.append(link)\n",
    "links"
   ]
  },
  {
   "cell_type": "code",
   "execution_count": 28,
   "metadata": {},
   "outputs": [],
   "source": [
    "link = links[0]"
   ]
  },
  {
   "cell_type": "code",
   "execution_count": 21,
   "metadata": {},
   "outputs": [],
   "source": [
    "link = \"https://www.telugupost.com/movie-news/హీరోకి-డైరెక్టర్-కి-ఒకలా-64818/\""
   ]
  },
  {
   "cell_type": "code",
   "execution_count": 29,
   "metadata": {},
   "outputs": [],
   "source": [
    "link = urllib.parse.quote(link, safe=':/')\n",
    "req = urllib.request.Request(\n",
    "    link, \n",
    "    data=None, \n",
    "    headers={\n",
    "        'User-Agent': 'Mozilla/5.0 (Macintosh; Intel Mac OS X 10_9_3) AppleWebKit/537.36 (KHTML, like Gecko) Chrome/35.0.1916.47 Safari/537.36'\n",
    "    }\n",
    ")\n",
    "response = urllib.request.urlopen(req)"
   ]
  },
  {
   "cell_type": "code",
   "execution_count": 30,
   "metadata": {},
   "outputs": [
    {
     "name": "stdout",
     "output_type": "stream",
     "text": [
      "మెగాస్టార్ చిరంజీవికి మరో రివార్డు లభించింది. మరో అరుదైన గౌరవం దక్కింది. గిన్నీస్ బుక్ ఆఫ్ రికార్డ్స్‌లో మెగాస్టార్ చిరంజీవి పేరు ఎక్కింది. హైదరాబాద్‌లో ఐటీసీ కోహినూర్ హోటల్  వేదికగా బాలీవుడ్ స్టార్ అమీర్ ఖాన్ అధికారికంగా ప్రకటించనున్నారు. మెగాస్టార్ చిరంజీవి కష్టపడి సినీ పరిశ్రమలో ఎదిగారు.స్వయంకృషితో ఎదిగి...స్వయంకృషితో ఆయన ఎదిగిన తీరు ఎందరికో స్పూర్తి దాయకంగా నిలిచింది. ఎందరో నటీనటులకు చిరంజీవి ఒక ఆదర్శంగా నిలిచారు. అలాంటి మెగాస్టార్ చిరంజీవి పద్మవిభూషణ్ వంటి ఎన్నో అవార్డులు లభించాయి. గిన్నిస్ బుక్ ఆఫ్ రికార్డ్స్ లో చోటు దక్కించుకోవడం చిత్ర పరిశ్రమలో మరో అరుదైన గౌరవంగా భావించవచ్చు.\n"
     ]
    }
   ],
   "source": [
    "soup = BeautifulSoup(response, 'html.parser')\n",
    "scripts = soup.find_all('script', {'type': 'application/ld+json'})\n",
    "data_txt = json.loads(scripts[0].text)[\"articleBody\"]\n",
    "print(data_txt)"
   ]
  }
 ],
 "metadata": {
  "kernelspec": {
   "display_name": "base",
   "language": "python",
   "name": "python3"
  },
  "language_info": {
   "codemirror_mode": {
    "name": "ipython",
    "version": 3
   },
   "file_extension": ".py",
   "mimetype": "text/x-python",
   "name": "python",
   "nbconvert_exporter": "python",
   "pygments_lexer": "ipython3",
   "version": "3.9.16"
  }
 },
 "nbformat": 4,
 "nbformat_minor": 2
}
