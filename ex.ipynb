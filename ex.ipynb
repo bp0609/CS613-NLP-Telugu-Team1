{
 "cells": [
  {
   "cell_type": "code",
   "execution_count": 6,
   "metadata": {},
   "outputs": [],
   "source": [
    "import pandas as pd"
   ]
  },
  {
   "cell_type": "code",
   "execution_count": 7,
   "metadata": {},
   "outputs": [
    {
     "data": {
      "text/html": [
       "<div>\n",
       "<style scoped>\n",
       "    .dataframe tbody tr th:only-of-type {\n",
       "        vertical-align: middle;\n",
       "    }\n",
       "\n",
       "    .dataframe tbody tr th {\n",
       "        vertical-align: top;\n",
       "    }\n",
       "\n",
       "    .dataframe thead th {\n",
       "        text-align: right;\n",
       "    }\n",
       "</style>\n",
       "<table border=\"1\" class=\"dataframe\">\n",
       "  <thead>\n",
       "    <tr style=\"text-align: right;\">\n",
       "      <th></th>\n",
       "      <th>link</th>\n",
       "      <th>text</th>\n",
       "    </tr>\n",
       "  </thead>\n",
       "  <tbody>\n",
       "    <tr>\n",
       "      <th>0</th>\n",
       "      <td>https://www.tupaki.com//entertainment/article/...</td>\n",
       "      <td>ఇదేం గోలండీ బాబూ.. కామెడీగా కూడా ఇలాంటి కామెంట...</td>\n",
       "    </tr>\n",
       "    <tr>\n",
       "      <th>1</th>\n",
       "      <td>https://www.tupaki.com//entertainment/article/...</td>\n",
       "      <td>సూపర్ స్టార్ మహేష్ బాబు ప్రస్తుతం తన ల్యాండ్ మ...</td>\n",
       "    </tr>\n",
       "    <tr>\n",
       "      <th>2</th>\n",
       "      <td>https://www.tupaki.com//entertainment/article/...</td>\n",
       "      <td>న‌ట‌సింహా నంద‌మూరి బాల‌కృష్ణ హీరోగా బోయ‌పాటి శ...</td>\n",
       "    </tr>\n",
       "    <tr>\n",
       "      <th>3</th>\n",
       "      <td>https://www.tupaki.com//entertainment/article/...</td>\n",
       "      <td>'పుష్ప'లోని 'ఊ అంటావా ఊ ఊ అంటావా..' పాట లో అద్...</td>\n",
       "    </tr>\n",
       "    <tr>\n",
       "      <th>4</th>\n",
       "      <td>https://www.tupaki.com//entertainment/article/...</td>\n",
       "      <td>ఒక వైపున శారద .. వాణిశ్రీ, మరో వైపున జయసుధ .. ...</td>\n",
       "    </tr>\n",
       "    <tr>\n",
       "      <th>...</th>\n",
       "      <td>...</td>\n",
       "      <td>...</td>\n",
       "    </tr>\n",
       "    <tr>\n",
       "      <th>300403</th>\n",
       "      <td>https://www.tupaki.com//entertainment/article/...</td>\n",
       "      <td>స‌మంత టైటిల్ పాత్ర‌లో శాకుంత‌లం తెర‌కెక్కిన సం...</td>\n",
       "    </tr>\n",
       "    <tr>\n",
       "      <th>300404</th>\n",
       "      <td>https://www.tupaki.com//entertainment/sreeleel...</td>\n",
       "      <td>డాక్ట‌ర్ కుటుంబం నుంచి వ‌చ్చి యాక్ట‌రైంది శ్రీ...</td>\n",
       "    </tr>\n",
       "    <tr>\n",
       "      <th>300405</th>\n",
       "      <td>https://www.tupaki.com//entertainment/article/...</td>\n",
       "      <td>యామిని భాస్కర్ తెలుసు కదా?  ఇప్పటి వరకూ యామిని...</td>\n",
       "    </tr>\n",
       "    <tr>\n",
       "      <th>300406</th>\n",
       "      <td>https://www.tupaki.com//entertainment/chiranje...</td>\n",
       "      <td>బాలీవుడ్ అగ్ర క‌థానాయ‌కుడు స‌న్నీడియోల్ ద‌శాబ్...</td>\n",
       "    </tr>\n",
       "    <tr>\n",
       "      <th>300407</th>\n",
       "      <td>https://www.tupaki.com//entertainment/article/...</td>\n",
       "      <td>పివి సింధు.. రీసెంట్ గా ఇండియాస్ బిగ్గెస్ట్ సె...</td>\n",
       "    </tr>\n",
       "  </tbody>\n",
       "</table>\n",
       "<p>300408 rows × 2 columns</p>\n",
       "</div>"
      ],
      "text/plain": [
       "                                                     link  \\\n",
       "0       https://www.tupaki.com//entertainment/article/...   \n",
       "1       https://www.tupaki.com//entertainment/article/...   \n",
       "2       https://www.tupaki.com//entertainment/article/...   \n",
       "3       https://www.tupaki.com//entertainment/article/...   \n",
       "4       https://www.tupaki.com//entertainment/article/...   \n",
       "...                                                   ...   \n",
       "300403  https://www.tupaki.com//entertainment/article/...   \n",
       "300404  https://www.tupaki.com//entertainment/sreeleel...   \n",
       "300405  https://www.tupaki.com//entertainment/article/...   \n",
       "300406  https://www.tupaki.com//entertainment/chiranje...   \n",
       "300407  https://www.tupaki.com//entertainment/article/...   \n",
       "\n",
       "                                                     text  \n",
       "0       ఇదేం గోలండీ బాబూ.. కామెడీగా కూడా ఇలాంటి కామెంట...  \n",
       "1       సూపర్ స్టార్ మహేష్ బాబు ప్రస్తుతం తన ల్యాండ్ మ...  \n",
       "2       న‌ట‌సింహా నంద‌మూరి బాల‌కృష్ణ హీరోగా బోయ‌పాటి శ...  \n",
       "3       'పుష్ప'లోని 'ఊ అంటావా ఊ ఊ అంటావా..' పాట లో అద్...  \n",
       "4       ఒక వైపున శారద .. వాణిశ్రీ, మరో వైపున జయసుధ .. ...  \n",
       "...                                                   ...  \n",
       "300403  స‌మంత టైటిల్ పాత్ర‌లో శాకుంత‌లం తెర‌కెక్కిన సం...  \n",
       "300404  డాక్ట‌ర్ కుటుంబం నుంచి వ‌చ్చి యాక్ట‌రైంది శ్రీ...  \n",
       "300405  యామిని భాస్కర్ తెలుసు కదా?  ఇప్పటి వరకూ యామిని...  \n",
       "300406  బాలీవుడ్ అగ్ర క‌థానాయ‌కుడు స‌న్నీడియోల్ ద‌శాబ్...  \n",
       "300407  పివి సింధు.. రీసెంట్ గా ఇండియాస్ బిగ్గెస్ట్ సె...  \n",
       "\n",
       "[300408 rows x 2 columns]"
      ]
     },
     "execution_count": 7,
     "metadata": {},
     "output_type": "execute_result"
    }
   ],
   "source": [
    "df = pd.read_csv(\"../TeluguData/cleaned_Tupaki_clean_articles.csv\")\n",
    "df"
   ]
  },
  {
   "cell_type": "code",
   "execution_count": 10,
   "metadata": {},
   "outputs": [
    {
     "name": "stdout",
     "output_type": "stream",
     "text": [
      "RRR' వంటి పాన్ ఇండియా సక్సెస్ తర్వాత యంగ్ టైగర్ ఎన్టీఆర్ నటిస్తున్న లేటెస్ట్ మూవీ 'దేవర'. కొరటాల శివ ఎంతో ప్రతిష్టాత్మకంగా ఈ సినిమాను తెరకెక్కిస్తున్నారు. సముద్రం బ్యాక్ డ్రాప్ లో హై వోల్టేజ్ యాక్షన్ రివెంజ్ డ్రామాగా రానున్న ఈ సినిమాపై ఇప్పటికే ఏ రేంజ్ లో అంచనాలు ఉన్నాయో ప్రత్యేకంగా చెప్పనవసరం లేదు. ఆ అంచనాలను రెట్టింపు చేసేందుకు మేకర్స్ దేవర గ్లింప్స్ ని జనవరి 8న రిలీజ్ చేయబోతున్న విషయం తెలిసిందే. \n",
      "ఈ గ్లింప్స్ కోసం ఎన్టీఆర్ ఫ్యాన్స్ తో పాటు ఆడియన్స్ ఎంతో ఆసక్తికరంగా ఎదురు చూస్తున్నారు. ఇదిలా ఉంటే సినిమా నుంచి ఎటువంటి గ్లింప్స్ కానీ టీజర్ కానీ రిలీజ్ కాకముందే దేవర సరికొత్త రికార్డు క్రియేట్ చేసింది. తాజా సమాచారం ప్రకారం దేవర ఆడియో హక్కులు భారీ ధరకు అమ్ముడుపోయినట్లు తెలుస్తోంది. బాలీవుడ్ బిగ్గెస్ట్ ప్రొడక్షన్ హౌస్‌లలో ఒకటైన టీ సిరీస్ సంస్థ దేవ‌ర ఆడియో రైట్స్ ను కళ్లుచెదిరే ధరకు కొనుగోలు చేసినట్లు సమాచారం.\n",
      "సుమారు రూ.28 కోట్లు పెట్టి దేవర మ్యూజిక్ రైట్స్ ని టీ సిరీస్ కొనుగోలు చేసినట్టు వార్తలు వినిపిస్తున్నాయి. ఇప్పటివరకు మరే సినిమా ఆడియో రైట్స్ ఇంత భారీ మొత్తంలో అమ్ముడుపోయిన దాఖలాలు లేవు. ఆడియో రైట్స్ విషయంలో 'దేవర' కంటే ముందు రాజమౌళి తెరకెక్కించిన 'RRR' మూవీ రూ.25 కోట్లతో టాప్ ప్లేస్ లో ఉంది. ఆ తర్వాత రణ్ బీర్ రీసెంట్ బ్లాక్ బస్టర్ 'యానిమల్' ఆడియో రైట్స్ రూ.16 కోట్లకు అమ్ముడవ్వగా ప్రభాస్ 'సలార్' రూ.12 కోట్లతో తరువాతి స్థానంలో ఉంది. \n",
      "ఈ సినిమాలన్నింటినీ దాటి 'దేవర' ఆడియో రైట్స్ ఏకంగా రూ.28 కోట్లకు అమ్ముడవడం విశేషం. ఈ విషయంలో 'దేవర' ఆల్ టైం రికార్డ్ క్రియేట్ చేసింది. ఇప్పటికే 80 శాతానికి పైగా షూటింగ్ పూర్తి చేసుకున్న ఈ సినిమా రెండు భాగాలుగా రాబోతోంది. ఎన్టీఆర్ డ్యూయల్ రోల్ చేస్తున్న ఈ సినిమాతో బాలీవుడ్ బ్యూటీ జాన్వీ కపూర్ తెలుగు వెండితెరకి హీరోయిన్ గా పరిచయం అవుతుంది.\n",
      "బాలీవుడ్ స్టార్ హీరో సైఫ్ అలీ ఖాన్ విలన్ గా కనిపించనున్నారు. ఎన్టీఆర్ ఆర్ట్స్, యువ సుధ ఆర్ట్స్ సంస్థలపై కొరటాల శివ మిత్రుడు మిక్కిలినేని సుధాకర్, కళ్యాణ్ రామ్ బావమరిది హరికృష్ణ సంయుక్తంగా నిర్మిస్తున్న ఈ సినిమాకి కోలీవుడ్ మ్యూజిక్ సెన్సేషన్ అనిరుద్ రవిచంద్రన్ సంగీతం అందిస్తున్నారు. ఏప్రిల్ 5 న ఈ సినిమా విడుదల కానుంది.\n"
     ]
    }
   ],
   "source": [
    "print(df[\"text\"][19900])"
   ]
  }
 ],
 "metadata": {
  "kernelspec": {
   "display_name": "base",
   "language": "python",
   "name": "python3"
  },
  "language_info": {
   "codemirror_mode": {
    "name": "ipython",
    "version": 3
   },
   "file_extension": ".py",
   "mimetype": "text/x-python",
   "name": "python",
   "nbconvert_exporter": "python",
   "pygments_lexer": "ipython3",
   "version": "3.9.16"
  }
 },
 "nbformat": 4,
 "nbformat_minor": 2
}
