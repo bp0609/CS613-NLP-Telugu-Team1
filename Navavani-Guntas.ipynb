{
 "cells": [
  {
   "cell_type": "code",
   "execution_count": 1,
   "metadata": {},
   "outputs": [
    {
     "data": {
      "text/plain": [
       "('लालः', 'ः')"
      ]
     },
     "execution_count": 1,
     "metadata": {},
     "output_type": "execute_result"
    }
   ],
   "source": [
    "# Sanskrit Text\n",
    "str = \"कोच्ची- ए एं एं ए इति सङघटनस्य आध्यक्ष्यात् मोहन् लालः त्यागपत्रम् अदात्। सङ्घटने भिन्नाभिप्रायः अतिरूक्षः इत्यतो स्थानत्यागम्। पूर्वं कानिचन अङ्गानि स्थानत्यागसन्नद्धतां संसूचयन्ति आसन्। १७ अङ्गयुक्ता निर्वाहकसमितिमपि उदसृजत्।\"\n",
    "words = str.split()\n",
    "words[9], words[9][-1]"
   ]
  },
  {
   "cell_type": "code",
   "execution_count": 2,
   "metadata": {},
   "outputs": [],
   "source": [
    "from selenium import webdriver\n",
    "from selenium.webdriver.common.by import By\n",
    "from selenium.webdriver.chrome.options import Options\n",
    "import pandas as pd"
   ]
  },
  {
   "cell_type": "code",
   "execution_count": 3,
   "metadata": {},
   "outputs": [],
   "source": [
    "url = \"https://navavani.org.in/wp/news\"\n",
    "\n",
    "try:\n",
    "    driver = webdriver.Chrome()\n",
    "except:\n",
    "    chrome_options = Options()\n",
    "    chrome_options.add_argument(\"--headless\")\n",
    "    chrome_options.add_argument(\"--no-sandbox\")\n",
    "    chrome_options.add_argument(\"--disable-dev-shm-usage\")\n",
    "    driver = webdriver.Chrome(options=chrome_options)\n",
    "    print(\"Running in headless mode.\")"
   ]
  },
  {
   "cell_type": "code",
   "execution_count": 10,
   "metadata": {},
   "outputs": [],
   "source": [
    "driver.get(url)"
   ]
  },
  {
   "cell_type": "markdown",
   "metadata": {},
   "source": [
    "## Previous Next Button\n",
    "![](./Media/NextButtonNewsArticle.png)"
   ]
  },
  {
   "cell_type": "code",
   "execution_count": 30,
   "metadata": {},
   "outputs": [],
   "source": [
    "next_button = driver.find_elements(By.CLASS_NAME, \"lcp_nextlink\")\n",
    "prev_button = driver.find_elements(By.CLASS_NAME, \"lcp_prevlink\")"
   ]
  },
  {
   "cell_type": "code",
   "execution_count": 54,
   "metadata": {},
   "outputs": [],
   "source": [
    "try:\n",
    "    next_button = driver.find_elements(By.CLASS_NAME, \"lcp_nextlink\")\n",
    "    next_button[0].click()\n",
    "except:\n",
    "    print(\"No next button found.\")"
   ]
  },
  {
   "cell_type": "code",
   "execution_count": 66,
   "metadata": {},
   "outputs": [
    {
     "name": "stdout",
     "output_type": "stream",
     "text": [
      "No previous page.\n"
     ]
    }
   ],
   "source": [
    "try:\n",
    "    prev_button = driver.find_elements(By.CLASS_NAME, \"lcp_prevlink\")\n",
    "    prev_button[0].click()\n",
    "except:\n",
    "    print(\"No previous page.\")"
   ]
  },
  {
   "cell_type": "markdown",
   "metadata": {},
   "source": [
    "## Text Segment of the HTML Page\n",
    "![](./Media/TextSectionNewsArticle.png)"
   ]
  },
  {
   "cell_type": "code",
   "execution_count": 40,
   "metadata": {},
   "outputs": [],
   "source": [
    "text_div = driver.find_elements(By.CLASS_NAME, \"lcp_catlist\")"
   ]
  },
  {
   "cell_type": "markdown",
   "metadata": {},
   "source": [
    "## Anchor Tags\n",
    "![](./Media/AnchorTagNewsArticle.png)"
   ]
  },
  {
   "cell_type": "code",
   "execution_count": 41,
   "metadata": {},
   "outputs": [],
   "source": [
    "anchor_tags = text_div[0].find_elements(By.TAG_NAME, \"a\")\n",
    "anchor_links = [tag.get_attribute(\"href\") for tag in anchor_tags]\n",
    "anchor_texts = [tag.text for tag in anchor_tags]"
   ]
  },
  {
   "cell_type": "code",
   "execution_count": 42,
   "metadata": {},
   "outputs": [
    {
     "data": {
      "text/html": [
       "<div>\n",
       "<style scoped>\n",
       "    .dataframe tbody tr th:only-of-type {\n",
       "        vertical-align: middle;\n",
       "    }\n",
       "\n",
       "    .dataframe tbody tr th {\n",
       "        vertical-align: top;\n",
       "    }\n",
       "\n",
       "    .dataframe thead th {\n",
       "        text-align: right;\n",
       "    }\n",
       "</style>\n",
       "<table border=\"1\" class=\"dataframe\">\n",
       "  <thead>\n",
       "    <tr style=\"text-align: right;\">\n",
       "      <th></th>\n",
       "      <th>Links</th>\n",
       "      <th>Texts</th>\n",
       "    </tr>\n",
       "  </thead>\n",
       "  <tbody>\n",
       "    <tr>\n",
       "      <th>0</th>\n",
       "      <td>https://navavani.org.in/wp/archives/18678</td>\n",
       "      <td>AMMA इति मलयालचलचित्राभिनेतृसङ्घटनस्य अध्यक्षस...</td>\n",
       "    </tr>\n",
       "    <tr>\n",
       "      <th>1</th>\n",
       "      <td>https://navavani.org.in/wp/archives/18653</td>\n",
       "      <td>राज्यस्तरीयाः चलचित्रपुरस्काराः घोषिताः</td>\n",
       "    </tr>\n",
       "    <tr>\n",
       "      <th>2</th>\n",
       "      <td>https://navavani.org.in/wp/archives/18641</td>\n",
       "      <td>८,९ कक्ष्यायोः सम्पूर्णोत्तरणं न भविता। दशमकक्...</td>\n",
       "    </tr>\n",
       "    <tr>\n",
       "      <th>3</th>\n",
       "      <td>https://navavani.org.in/wp/archives/18631</td>\n",
       "      <td>वयनाट् देशे प्रकृतिदुरन्तेभ्यः पीडितानां छात्र...</td>\n",
       "    </tr>\n",
       "    <tr>\n",
       "      <th>4</th>\n",
       "      <td>https://navavani.org.in/wp/archives/18609</td>\n",
       "      <td>डा-हरिप्रसाद् कटम्बूर् वर्याय साहित्यप्रतिभापु...</td>\n",
       "    </tr>\n",
       "    <tr>\n",
       "      <th>5</th>\n",
       "      <td>https://navavani.org.in/wp/archives/18568</td>\n",
       "      <td>कोषिक्कोट् नगरं राष्ट्रे प्रथमं साहित्यनगरम्।</td>\n",
       "    </tr>\n",
       "    <tr>\n",
       "      <th>6</th>\n",
       "      <td>https://navavani.org.in/wp/archives/18548</td>\n",
       "      <td>डा के जि पौलोस् वर्यः केन्द्र साहित्य अक्कादमी...</td>\n",
       "    </tr>\n",
       "    <tr>\n",
       "      <th>7</th>\n",
       "      <td>https://navavani.org.in/wp/archives/18520</td>\n",
       "      <td>हिमालयसानुषु संस्कृतालेखितः ध्वजः आरोपितः।</td>\n",
       "    </tr>\n",
       "    <tr>\n",
       "      <th>8</th>\n",
       "      <td>https://navavani.org.in/wp/archives/18501</td>\n",
       "      <td>छात्रैः साकं रक्षितारोपि पठेयुः।</td>\n",
       "    </tr>\n",
       "    <tr>\n",
       "      <th>9</th>\n",
       "      <td>https://navavani.org.in/wp/archives/18490</td>\n",
       "      <td>अशोकन् पुरनाट्टुकरा अनुस्मरणम् पुरस्कारसमर्पणञ...</td>\n",
       "    </tr>\n",
       "    <tr>\n",
       "      <th>10</th>\n",
       "      <td>https://navavani.org.in/wp/archives/18479</td>\n",
       "      <td>अशोकन् पुरनाट्टुकरा -भारतमुद्रा पुरस्कारः 2024...</td>\n",
       "    </tr>\n",
       "    <tr>\n",
       "      <th>11</th>\n",
       "      <td>https://navavani.org.in/wp/archives/18437</td>\n",
       "      <td>सरस्वतीसम्मान् प्रभावर्मा वर्याय। द्वादशवर्षान...</td>\n",
       "    </tr>\n",
       "    <tr>\n",
       "      <th>12</th>\n",
       "      <td>https://navavani.org.in/wp/archives/18434</td>\n",
       "      <td>डाः नारायणः गुरुवायूर् वेदपठनकेन्द्रस्य निदेशक...</td>\n",
       "    </tr>\n",
       "    <tr>\n",
       "      <th>13</th>\n",
       "      <td>https://navavani.org.in/wp/archives/18431</td>\n",
       "      <td>२०२४-२५ अध्ययनवर्षस्य कृते पाठ्यपुस्तकानि सज्ज...</td>\n",
       "    </tr>\n",
       "    <tr>\n",
       "      <th>14</th>\n",
       "      <td>https://navavani.org.in/wp/archives/18404</td>\n",
       "      <td>ज्ञानपीठपुरस्कारः- गुल्सार् वर्यः जगद्गुरुः रा...</td>\n",
       "    </tr>\n",
       "    <tr>\n",
       "      <th>15</th>\n",
       "      <td>https://navavani.org.in/wp/archives/18387</td>\n",
       "      <td>ओ के मुन्षी पुरस्कारः डा : नारायणन् नम्पूतिरि ...</td>\n",
       "    </tr>\n",
       "    <tr>\n",
       "      <th>16</th>\n",
       "      <td>https://navavani.org.in/wp/archives/18371</td>\n",
       "      <td>मुन्षि पुरस्कारः डो-पि नारायणन् नम्पूतिरिवर्या...</td>\n",
       "    </tr>\n",
       "    <tr>\n",
       "      <th>17</th>\n",
       "      <td>https://navavani.org.in/wp/archives/18368</td>\n",
       "      <td>केरलेषु पाठ्यचर्यायाः समग्रपरिवर्तनेन पाठ्यपुस...</td>\n",
       "    </tr>\n",
       "    <tr>\n",
       "      <th>18</th>\n",
       "      <td>https://navavani.org.in/wp/archives/18361</td>\n",
       "      <td>विद्यालयीयकलोत्सवे कण्णूर् मण्डलं विजयकिरीटमन्...</td>\n",
       "    </tr>\n",
       "    <tr>\n",
       "      <th>19</th>\n",
       "      <td>https://navavani.org.in/wp/archives/18331</td>\n",
       "      <td>भारतीय-मल्लयुद्धसङ्घस्य अध्यक्षः ब्रिज्भूषणस्य...</td>\n",
       "    </tr>\n",
       "  </tbody>\n",
       "</table>\n",
       "</div>"
      ],
      "text/plain": [
       "                                        Links  \\\n",
       "0   https://navavani.org.in/wp/archives/18678   \n",
       "1   https://navavani.org.in/wp/archives/18653   \n",
       "2   https://navavani.org.in/wp/archives/18641   \n",
       "3   https://navavani.org.in/wp/archives/18631   \n",
       "4   https://navavani.org.in/wp/archives/18609   \n",
       "5   https://navavani.org.in/wp/archives/18568   \n",
       "6   https://navavani.org.in/wp/archives/18548   \n",
       "7   https://navavani.org.in/wp/archives/18520   \n",
       "8   https://navavani.org.in/wp/archives/18501   \n",
       "9   https://navavani.org.in/wp/archives/18490   \n",
       "10  https://navavani.org.in/wp/archives/18479   \n",
       "11  https://navavani.org.in/wp/archives/18437   \n",
       "12  https://navavani.org.in/wp/archives/18434   \n",
       "13  https://navavani.org.in/wp/archives/18431   \n",
       "14  https://navavani.org.in/wp/archives/18404   \n",
       "15  https://navavani.org.in/wp/archives/18387   \n",
       "16  https://navavani.org.in/wp/archives/18371   \n",
       "17  https://navavani.org.in/wp/archives/18368   \n",
       "18  https://navavani.org.in/wp/archives/18361   \n",
       "19  https://navavani.org.in/wp/archives/18331   \n",
       "\n",
       "                                                Texts  \n",
       "0   AMMA इति मलयालचलचित्राभिनेतृसङ्घटनस्य अध्यक्षस...  \n",
       "1             राज्यस्तरीयाः चलचित्रपुरस्काराः घोषिताः  \n",
       "2   ८,९ कक्ष्यायोः सम्पूर्णोत्तरणं न भविता। दशमकक्...  \n",
       "3   वयनाट् देशे प्रकृतिदुरन्तेभ्यः पीडितानां छात्र...  \n",
       "4   डा-हरिप्रसाद् कटम्बूर् वर्याय साहित्यप्रतिभापु...  \n",
       "5       कोषिक्कोट् नगरं राष्ट्रे प्रथमं साहित्यनगरम्।  \n",
       "6   डा के जि पौलोस् वर्यः केन्द्र साहित्य अक्कादमी...  \n",
       "7          हिमालयसानुषु संस्कृतालेखितः ध्वजः आरोपितः।  \n",
       "8                    छात्रैः साकं रक्षितारोपि पठेयुः।  \n",
       "9   अशोकन् पुरनाट्टुकरा अनुस्मरणम् पुरस्कारसमर्पणञ...  \n",
       "10  अशोकन् पुरनाट्टुकरा -भारतमुद्रा पुरस्कारः 2024...  \n",
       "11  सरस्वतीसम्मान् प्रभावर्मा वर्याय। द्वादशवर्षान...  \n",
       "12  डाः नारायणः गुरुवायूर् वेदपठनकेन्द्रस्य निदेशक...  \n",
       "13  २०२४-२५ अध्ययनवर्षस्य कृते पाठ्यपुस्तकानि सज्ज...  \n",
       "14  ज्ञानपीठपुरस्कारः- गुल्सार् वर्यः जगद्गुरुः रा...  \n",
       "15  ओ के मुन्षी पुरस्कारः डा : नारायणन् नम्पूतिरि ...  \n",
       "16  मुन्षि पुरस्कारः डो-पि नारायणन् नम्पूतिरिवर्या...  \n",
       "17  केरलेषु पाठ्यचर्यायाः समग्रपरिवर्तनेन पाठ्यपुस...  \n",
       "18  विद्यालयीयकलोत्सवे कण्णूर् मण्डलं विजयकिरीटमन्...  \n",
       "19  भारतीय-मल्लयुद्धसङ्घस्य अध्यक्षः ब्रिज्भूषणस्य...  "
      ]
     },
     "execution_count": 42,
     "metadata": {},
     "output_type": "execute_result"
    }
   ],
   "source": [
    "# make dataframe of anchor_links and anchor_texts\n",
    "df = pd.DataFrame(list(zip(anchor_links, anchor_texts)), columns=[\"Links\", \"Texts\"])\n",
    "df"
   ]
  },
  {
   "cell_type": "code",
   "execution_count": 11,
   "metadata": {},
   "outputs": [],
   "source": [
    "# empty dataframe\n",
    "df = pd.DataFrame(columns=[\"Links\", \"Texts\"])"
   ]
  },
  {
   "cell_type": "code",
   "execution_count": 12,
   "metadata": {},
   "outputs": [
    {
     "name": "stdout",
     "output_type": "stream",
     "text": [
      "All Pages Parsed.\n"
     ]
    }
   ],
   "source": [
    "# scroll to next pages until the end and get the links and texts\n",
    "from time import sleep\n",
    "\n",
    "while(True):\n",
    "    try:\n",
    "        text_div = driver.find_elements(By.CLASS_NAME, \"lcp_catlist\")\n",
    "        anchor_tags = text_div[0].find_elements(By.TAG_NAME, \"a\")\n",
    "        anchor_links = [tag.get_attribute(\"href\") for tag in anchor_tags]\n",
    "        anchor_texts = [tag.text for tag in anchor_tags]\n",
    "        df = pd.concat([df, pd.DataFrame(list(zip(anchor_links, anchor_texts)), columns=[\"Links\", \"Texts\"])], ignore_index=True)\n",
    "        next_button = driver.find_elements(By.CLASS_NAME, \"lcp_nextlink\")\n",
    "        next_button[0].click()\n",
    "        sleep(5) # to allow for driver to load the page\n",
    "    except:\n",
    "        print(\"All Pages Parsed.\")\n",
    "        break"
   ]
  },
  {
   "cell_type": "code",
   "execution_count": 13,
   "metadata": {},
   "outputs": [
    {
     "data": {
      "text/html": [
       "<div>\n",
       "<style scoped>\n",
       "    .dataframe tbody tr th:only-of-type {\n",
       "        vertical-align: middle;\n",
       "    }\n",
       "\n",
       "    .dataframe tbody tr th {\n",
       "        vertical-align: top;\n",
       "    }\n",
       "\n",
       "    .dataframe thead th {\n",
       "        text-align: right;\n",
       "    }\n",
       "</style>\n",
       "<table border=\"1\" class=\"dataframe\">\n",
       "  <thead>\n",
       "    <tr style=\"text-align: right;\">\n",
       "      <th></th>\n",
       "      <th>Links</th>\n",
       "      <th>Texts</th>\n",
       "    </tr>\n",
       "  </thead>\n",
       "  <tbody>\n",
       "    <tr>\n",
       "      <th>0</th>\n",
       "      <td>https://navavani.org.in/wp/archives/18678</td>\n",
       "      <td>AMMA इति मलयालचलचित्राभिनेतृसङ्घटनस्य अध्यक्षस...</td>\n",
       "    </tr>\n",
       "    <tr>\n",
       "      <th>1</th>\n",
       "      <td>https://navavani.org.in/wp/archives/18653</td>\n",
       "      <td>राज्यस्तरीयाः चलचित्रपुरस्काराः घोषिताः</td>\n",
       "    </tr>\n",
       "    <tr>\n",
       "      <th>2</th>\n",
       "      <td>https://navavani.org.in/wp/archives/18641</td>\n",
       "      <td>८,९ कक्ष्यायोः सम्पूर्णोत्तरणं न भविता। दशमकक्...</td>\n",
       "    </tr>\n",
       "    <tr>\n",
       "      <th>3</th>\n",
       "      <td>https://navavani.org.in/wp/archives/18631</td>\n",
       "      <td>वयनाट् देशे प्रकृतिदुरन्तेभ्यः पीडितानां छात्र...</td>\n",
       "    </tr>\n",
       "    <tr>\n",
       "      <th>4</th>\n",
       "      <td>https://navavani.org.in/wp/archives/18609</td>\n",
       "      <td>डा-हरिप्रसाद् कटम्बूर् वर्याय साहित्यप्रतिभापु...</td>\n",
       "    </tr>\n",
       "    <tr>\n",
       "      <th>...</th>\n",
       "      <td>...</td>\n",
       "      <td>...</td>\n",
       "    </tr>\n",
       "    <tr>\n",
       "      <th>1266</th>\n",
       "      <td>https://navavani.org.in/wp/archives/645</td>\n",
       "      <td>उपराष्ट्रपतेः शपथवचनं शुक्रवासरे।</td>\n",
       "    </tr>\n",
       "    <tr>\n",
       "      <th>1267</th>\n",
       "      <td>https://navavani.org.in/wp/archives/519</td>\n",
       "      <td>पचनवायोः वित्तानुकूल्यं स्थगयति।</td>\n",
       "    </tr>\n",
       "    <tr>\n",
       "      <th>1268</th>\n",
       "      <td>https://navavani.org.in/wp/archives/557</td>\n",
       "      <td>विद्यालयेषु इतः परं असमर्थानामवतीर्णता।</td>\n",
       "    </tr>\n",
       "    <tr>\n",
       "      <th>1269</th>\n",
       "      <td>https://navavani.org.in/wp/archives/425</td>\n",
       "      <td>पि यु चित्रा विश्वस्पर्धात: बहिष्कृता।</td>\n",
       "    </tr>\n",
       "    <tr>\n",
       "      <th>1270</th>\n",
       "      <td>https://navavani.org.in/wp/archives/325</td>\n",
       "      <td>नवास् षरीफः स्थानभ्रष्टः।</td>\n",
       "    </tr>\n",
       "  </tbody>\n",
       "</table>\n",
       "<p>1271 rows × 2 columns</p>\n",
       "</div>"
      ],
      "text/plain": [
       "                                          Links  \\\n",
       "0     https://navavani.org.in/wp/archives/18678   \n",
       "1     https://navavani.org.in/wp/archives/18653   \n",
       "2     https://navavani.org.in/wp/archives/18641   \n",
       "3     https://navavani.org.in/wp/archives/18631   \n",
       "4     https://navavani.org.in/wp/archives/18609   \n",
       "...                                         ...   \n",
       "1266    https://navavani.org.in/wp/archives/645   \n",
       "1267    https://navavani.org.in/wp/archives/519   \n",
       "1268    https://navavani.org.in/wp/archives/557   \n",
       "1269    https://navavani.org.in/wp/archives/425   \n",
       "1270    https://navavani.org.in/wp/archives/325   \n",
       "\n",
       "                                                  Texts  \n",
       "0     AMMA इति मलयालचलचित्राभिनेतृसङ्घटनस्य अध्यक्षस...  \n",
       "1               राज्यस्तरीयाः चलचित्रपुरस्काराः घोषिताः  \n",
       "2     ८,९ कक्ष्यायोः सम्पूर्णोत्तरणं न भविता। दशमकक्...  \n",
       "3     वयनाट् देशे प्रकृतिदुरन्तेभ्यः पीडितानां छात्र...  \n",
       "4     डा-हरिप्रसाद् कटम्बूर् वर्याय साहित्यप्रतिभापु...  \n",
       "...                                                 ...  \n",
       "1266                  उपराष्ट्रपतेः शपथवचनं शुक्रवासरे।  \n",
       "1267                   पचनवायोः वित्तानुकूल्यं स्थगयति।  \n",
       "1268            विद्यालयेषु इतः परं असमर्थानामवतीर्णता।  \n",
       "1269             पि यु चित्रा विश्वस्पर्धात: बहिष्कृता।  \n",
       "1270                          नवास् षरीफः स्थानभ्रष्टः।  \n",
       "\n",
       "[1271 rows x 2 columns]"
      ]
     },
     "execution_count": 13,
     "metadata": {},
     "output_type": "execute_result"
    }
   ],
   "source": [
    "df"
   ]
  },
  {
   "cell_type": "code",
   "execution_count": 14,
   "metadata": {},
   "outputs": [],
   "source": [
    "# save the dataframe to a csv file\n",
    "df.to_csv(\"navavani_links.csv\", index=False)"
   ]
  }
 ],
 "metadata": {
  "kernelspec": {
   "display_name": "base",
   "language": "python",
   "name": "python3"
  },
  "language_info": {
   "codemirror_mode": {
    "name": "ipython",
    "version": 3
   },
   "file_extension": ".py",
   "mimetype": "text/x-python",
   "name": "python",
   "nbconvert_exporter": "python",
   "pygments_lexer": "ipython3",
   "version": "3.9.16"
  }
 },
 "nbformat": 4,
 "nbformat_minor": 2
}
