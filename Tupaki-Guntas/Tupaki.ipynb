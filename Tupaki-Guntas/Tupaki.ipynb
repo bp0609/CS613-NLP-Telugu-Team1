{
 "cells": [
  {
   "cell_type": "code",
   "execution_count": 1,
   "metadata": {},
   "outputs": [],
   "source": [
    "from bs4 import BeautifulSoup\n",
    "import urllib.request"
   ]
  },
  {
   "cell_type": "code",
   "execution_count": 2,
   "metadata": {},
   "outputs": [],
   "source": [
    "base_url = \"https://www.tupaki.com/entertainment\""
   ]
  },
  {
   "cell_type": "code",
   "execution_count": 3,
   "metadata": {},
   "outputs": [],
   "source": [
    "page = urllib.request.urlopen(base_url).read()\n",
    "soup = BeautifulSoup(page, 'html.parser')"
   ]
  },
  {
   "cell_type": "code",
   "execution_count": 4,
   "metadata": {},
   "outputs": [
    {
     "data": {
      "text/plain": [
       "['/entertainment/pragya-jaiswal-latest-photo-1385919',\n",
       " '/entertainment/pragya-jaiswal-latest-photo-1385919',\n",
       " '/entertainment/kiccha-sudeep-in-sandalwood-event-1385900',\n",
       " '/entertainment/kiccha-sudeep-in-sandalwood-event-1385900',\n",
       " '/entertainment/rajinikanth-on-amitabh-bachchan-1385898',\n",
       " '/entertainment/rajinikanth-on-amitabh-bachchan-1385898',\n",
       " '/entertainment/vetrimaaran-ntr-movie-1385849',\n",
       " '/entertainment/vetrimaaran-ntr-movie-1385849',\n",
       " '/entertainment/adivi-sesh-triple-treat-1385922',\n",
       " '/entertainment/adivi-sesh-triple-treat-1385922',\n",
       " '/entertainment/siddhant-chaturvedi-yudhra-1385859',\n",
       " '/entertainment/siddhant-chaturvedi-yudhra-1385859',\n",
       " '/entertainment/nuvu-nenu-actress-anita-lovestory-1385860',\n",
       " '/entertainment/nuvu-nenu-actress-anita-lovestory-1385860',\n",
       " '/entertainment/another-case-against-johnny-master-wife-1385916',\n",
       " '/entertainment/another-case-against-johnny-master-wife-1385916',\n",
       " '/entertainment/will-ram-charan-attend-devara-pre-release-event-1385864',\n",
       " '/entertainment/will-ram-charan-attend-devara-pre-release-event-1385864',\n",
       " '/entertainment/nagarjuna-in-biggboss-season-8-1385907',\n",
       " '/entertainment/nagarjuna-in-biggboss-season-8-1385907',\n",
       " '/entertainment/payal-rajput-cute-picture-in-yoga-1385868',\n",
       " '/entertainment/payal-rajput-cute-picture-in-yoga-1385868',\n",
       " '/entertainment/sukumar-wife-stuns-in-greece-1385905',\n",
       " '/entertainment/sukumar-wife-stuns-in-greece-1385905']"
      ]
     },
     "execution_count": 4,
     "metadata": {},
     "output_type": "execute_result"
    }
   ],
   "source": [
    "main_divs = soup.find_all('div', class_=\"politics-business\")\n",
    "\n",
    "links = []\n",
    "for div in main_divs:\n",
    "    for a in div.find_all('a', href=True):\n",
    "        links.append(a['href'])\n",
    "\n",
    "links"
   ]
  },
  {
   "cell_type": "code",
   "execution_count": 9,
   "metadata": {},
   "outputs": [
    {
     "data": {
      "text/plain": [
       "'https://www.tupaki.com//entertainment/pragya-jaiswal-latest-photo-1385919'"
      ]
     },
     "execution_count": 9,
     "metadata": {},
     "output_type": "execute_result"
    }
   ],
   "source": [
    "link1 = links[0]\n",
    "link1 = \"https://www.tupaki.com/\" + link1\n",
    "link1"
   ]
  },
  {
   "cell_type": "code",
   "execution_count": 12,
   "metadata": {},
   "outputs": [
    {
     "name": "stdout",
     "output_type": "stream",
     "text": [
      "99 శాతం ఆమె అందం ఆ పొడుగు కాళ్ల‌లోనే దాగి ఉంది. ఇవే పొడుగు కాళ్ల‌తో పూజా హెగ్డే `అల వైకుంఠ‌పుర‌ములో` చిత్రంలో బోలెడంత మ్యాజిక్ చేసింది. ఆ పొడుగు కాళ్ల‌ను పొగిడేందుకు ర‌చ‌యిత‌లు ఏకంగా క‌విత‌లే అల్లారు. అదంతా స‌రే కానీ, ఇప్పుడు ప్ర‌గ్య పొడుగు కాళ్ల సౌంద‌ర్యం చూశాక కుర్రాళ్లు మ‌తి చెడి ఎవ‌రికి వారు క‌విత‌లు అల్ల‌డం ఖాయంగా క‌నిపిస్తోంది.\n",
      "ఆమె పొడుగు కాళ్ల సౌంద‌ర్యాన్ని పొగిడేందుకు క‌వి కానివాళ్లు కూడా కాళిదాసులు అయిపోయేట్టున్నారు. అంత‌గా ఆమె కాలి సౌంద‌ర్యాన్ని ఆవిష్క‌రించింది. ఇటీవ‌ల ఫోటోషూట్ల‌లో క్రియేటివిటీ హ‌ద్దులు చెరిపేస్తోంది. ఇంతందంగా హా* కంటెంట్ తో ప్ర‌గ్య‌ను ప్ర‌మోట్ చేయ‌డం ఆ ఒక్క ఛాన్స్ కోస‌మేన‌ని అర్థం చేసుకోగ‌లం.\n",
      "కంచె, అఖండ లాంటి బ్లాక్ బ‌స్ట‌ర్లు ఉన్నా తెలుగు ప‌రిశ్ర‌మ‌లో ఆశించిన స్థాయికి చేరుకోవ‌డానికి వీలుప‌డ‌లేదు. బాలీవుడ్ లో స‌ల్మాన్, అక్ష‌య్ లాంటి స్టార్ల తో న‌టించినా ఏదీ క‌లిసి రాలేదు. కానీ ప్ర‌గ్య దేనికీ నిరాశ చెంద‌క త‌న‌వంతు ప్ర‌య‌త్నాల‌ను ఎప్ప‌డూ ఆప‌లేదు.\n",
      "ప్ర‌స్తుతం సోష‌ల్ మీడియాల్లో తన లేటెస్ట్ ఫోటోషూట్ల‌ను షేర్ చేస్తూ మార్కెట్లో అంద‌రి దృష్టిని ఆక‌ర్షిస్తోంది. ఇన్ స్టాలో ఇప్ప‌టికే ప్ర‌గ్య‌కు భారీ ఫాలోయింగ్ ఏర్ప‌డింది. ఈ వేదిక‌పై ప్ర‌క‌ట‌న‌ల ఆదాయాన్ని కూడా ఆర్జిస్తోంది. ఇంత‌కుముందు సీకే బ్రాండ్ కి ఇన్ స్టాలో బోలెడంత ప్ర‌చారం చేసిన ప్ర‌గ్య‌, చాలా కార్పొరెట్ ఉత్ప‌త్తుల కోసం కాంట్రాక్టులు కుద‌ర్చుకుంది. అదంతా స‌రే కానీ, ప్ర‌గ్య‌కు టాలీవుడ్ లో మ‌రోసారి అవ‌కాశం వ‌చ్చేదెపుడు?  బ్రేక్ ల‌భించేది ఎప్పుడు? అన్న‌ది చ‌ర్చ‌గా మారింది.\n",
      "ప్ర‌స్తుతం ప్ర‌గ్య జైశ్వాల్ హోప్స్ అన్నీ నంద‌మూరి బాల‌కృష్ణ‌- బాబి సినిమాపైనే. ఈ మూవీ టీజ‌ర్, ట్రైల‌ర్ కోసం అభిమానులు ఆస‌క్తిగా వేచి చూస్తున్నారు. ఇందులో ప్ర‌గ్య‌కు కొంత వెయిట్ ఉన్న పాత్ర‌ను ఆఫ‌ర్ చేసార‌నే ప్ర‌స్తుతానికి భావిస్తున్నారు. ఏం జ‌రుగుతుందో వేచి చూడాలి.\n",
      "\n"
     ]
    }
   ],
   "source": [
    "page = urllib.request.urlopen(link1).read()\n",
    "soup = BeautifulSoup(page, 'html.parser')\n",
    "\n",
    "main_div = soup.find('div', class_=\"paira-h4\")\n",
    "\n",
    "# if the main_div has paragraph tags, then we can extract the text else we can extract the text from the main_div itself\n",
    "if main_div.find_all('p'):\n",
    "    text = \"\"\n",
    "    for p in main_div.find_all('p'):\n",
    "        text += p.text + \"\\n\"\n",
    "else:\n",
    "    text = main_div.text\n",
    "\n",
    "print(text)"
   ]
  },
  {
   "cell_type": "code",
   "execution_count": null,
   "metadata": {},
   "outputs": [],
   "source": []
  }
 ],
 "metadata": {
  "kernelspec": {
   "display_name": "base",
   "language": "python",
   "name": "python3"
  },
  "language_info": {
   "codemirror_mode": {
    "name": "ipython",
    "version": 3
   },
   "file_extension": ".py",
   "mimetype": "text/x-python",
   "name": "python",
   "nbconvert_exporter": "python",
   "pygments_lexer": "ipython3",
   "version": "3.9.16"
  }
 },
 "nbformat": 4,
 "nbformat_minor": 2
}
